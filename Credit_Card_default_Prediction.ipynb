{
 "cells": [
  {
   "cell_type": "code",
   "execution_count": 1,
   "metadata": {},
   "outputs": [],
   "source": [
    "import pandas as pd\n",
    "import numpy as np\n",
    "import matplotlib.pyplot as plt\n",
    "import seaborn as sns"
   ]
  },
  {
   "cell_type": "code",
   "execution_count": 32,
   "metadata": {},
   "outputs": [
    {
     "data": {
      "text/html": [
       "<div>\n",
       "<style scoped>\n",
       "    .dataframe tbody tr th:only-of-type {\n",
       "        vertical-align: middle;\n",
       "    }\n",
       "\n",
       "    .dataframe tbody tr th {\n",
       "        vertical-align: top;\n",
       "    }\n",
       "\n",
       "    .dataframe thead th {\n",
       "        text-align: right;\n",
       "    }\n",
       "</style>\n",
       "<table border=\"1\" class=\"dataframe\">\n",
       "  <thead>\n",
       "    <tr style=\"text-align: right;\">\n",
       "      <th></th>\n",
       "      <th>credit_limit</th>\n",
       "      <th>gender</th>\n",
       "      <th>education</th>\n",
       "      <th>marital_status</th>\n",
       "      <th>age</th>\n",
       "      <th>timeliness_1</th>\n",
       "      <th>timeliness_2</th>\n",
       "      <th>timeliness_3</th>\n",
       "      <th>timeliness_4</th>\n",
       "      <th>timeliness_5</th>\n",
       "      <th>...</th>\n",
       "      <th>balance_6</th>\n",
       "      <th>payment_1</th>\n",
       "      <th>payment_2</th>\n",
       "      <th>payment_3</th>\n",
       "      <th>payment_4</th>\n",
       "      <th>payment_5</th>\n",
       "      <th>payment_6</th>\n",
       "      <th>avg_balance</th>\n",
       "      <th>avg_payment</th>\n",
       "      <th>default</th>\n",
       "    </tr>\n",
       "  </thead>\n",
       "  <tbody>\n",
       "    <tr>\n",
       "      <th>0</th>\n",
       "      <td>20000</td>\n",
       "      <td>female</td>\n",
       "      <td>uni</td>\n",
       "      <td>married</td>\n",
       "      <td>24</td>\n",
       "      <td>m+2</td>\n",
       "      <td>m+2</td>\n",
       "      <td>m-1</td>\n",
       "      <td>m-1</td>\n",
       "      <td>m-2</td>\n",
       "      <td>...</td>\n",
       "      <td>0</td>\n",
       "      <td>0</td>\n",
       "      <td>689</td>\n",
       "      <td>0</td>\n",
       "      <td>0</td>\n",
       "      <td>0</td>\n",
       "      <td>0</td>\n",
       "      <td>1284.000000</td>\n",
       "      <td>114.833333</td>\n",
       "      <td>yes</td>\n",
       "    </tr>\n",
       "    <tr>\n",
       "      <th>1</th>\n",
       "      <td>120000</td>\n",
       "      <td>female</td>\n",
       "      <td>uni</td>\n",
       "      <td>single</td>\n",
       "      <td>26</td>\n",
       "      <td>m-1</td>\n",
       "      <td>m+2</td>\n",
       "      <td>m+0</td>\n",
       "      <td>m+0</td>\n",
       "      <td>m+0</td>\n",
       "      <td>...</td>\n",
       "      <td>3261</td>\n",
       "      <td>0</td>\n",
       "      <td>1000</td>\n",
       "      <td>1000</td>\n",
       "      <td>1000</td>\n",
       "      <td>0</td>\n",
       "      <td>2000</td>\n",
       "      <td>2846.166667</td>\n",
       "      <td>833.333333</td>\n",
       "      <td>yes</td>\n",
       "    </tr>\n",
       "    <tr>\n",
       "      <th>2</th>\n",
       "      <td>90000</td>\n",
       "      <td>female</td>\n",
       "      <td>uni</td>\n",
       "      <td>single</td>\n",
       "      <td>34</td>\n",
       "      <td>m+0</td>\n",
       "      <td>m+0</td>\n",
       "      <td>m+0</td>\n",
       "      <td>m+0</td>\n",
       "      <td>m+0</td>\n",
       "      <td>...</td>\n",
       "      <td>15549</td>\n",
       "      <td>1518</td>\n",
       "      <td>1500</td>\n",
       "      <td>1000</td>\n",
       "      <td>1000</td>\n",
       "      <td>1000</td>\n",
       "      <td>5000</td>\n",
       "      <td>16942.166667</td>\n",
       "      <td>1836.333333</td>\n",
       "      <td>no</td>\n",
       "    </tr>\n",
       "    <tr>\n",
       "      <th>3</th>\n",
       "      <td>50000</td>\n",
       "      <td>female</td>\n",
       "      <td>uni</td>\n",
       "      <td>married</td>\n",
       "      <td>37</td>\n",
       "      <td>m+0</td>\n",
       "      <td>m+0</td>\n",
       "      <td>m+0</td>\n",
       "      <td>m+0</td>\n",
       "      <td>m+0</td>\n",
       "      <td>...</td>\n",
       "      <td>29547</td>\n",
       "      <td>2000</td>\n",
       "      <td>2019</td>\n",
       "      <td>1200</td>\n",
       "      <td>1100</td>\n",
       "      <td>1069</td>\n",
       "      <td>1000</td>\n",
       "      <td>38555.666667</td>\n",
       "      <td>1398.000000</td>\n",
       "      <td>no</td>\n",
       "    </tr>\n",
       "    <tr>\n",
       "      <th>4</th>\n",
       "      <td>50000</td>\n",
       "      <td>male</td>\n",
       "      <td>uni</td>\n",
       "      <td>married</td>\n",
       "      <td>57</td>\n",
       "      <td>m-1</td>\n",
       "      <td>m+0</td>\n",
       "      <td>m-1</td>\n",
       "      <td>m+0</td>\n",
       "      <td>m+0</td>\n",
       "      <td>...</td>\n",
       "      <td>19131</td>\n",
       "      <td>2000</td>\n",
       "      <td>36681</td>\n",
       "      <td>10000</td>\n",
       "      <td>9000</td>\n",
       "      <td>689</td>\n",
       "      <td>679</td>\n",
       "      <td>18223.166667</td>\n",
       "      <td>9841.500000</td>\n",
       "      <td>no</td>\n",
       "    </tr>\n",
       "  </tbody>\n",
       "</table>\n",
       "<p>5 rows × 26 columns</p>\n",
       "</div>"
      ],
      "text/plain": [
       "   credit_limit  gender education marital_status  age timeliness_1  \\\n",
       "0         20000  female       uni        married   24          m+2   \n",
       "1        120000  female       uni         single   26          m-1   \n",
       "2         90000  female       uni         single   34          m+0   \n",
       "3         50000  female       uni        married   37          m+0   \n",
       "4         50000    male       uni        married   57          m-1   \n",
       "\n",
       "  timeliness_2 timeliness_3 timeliness_4 timeliness_5  ... balance_6  \\\n",
       "0          m+2          m-1          m-1          m-2  ...         0   \n",
       "1          m+2          m+0          m+0          m+0  ...      3261   \n",
       "2          m+0          m+0          m+0          m+0  ...     15549   \n",
       "3          m+0          m+0          m+0          m+0  ...     29547   \n",
       "4          m+0          m-1          m+0          m+0  ...     19131   \n",
       "\n",
       "   payment_1  payment_2  payment_3  payment_4  payment_5  payment_6  \\\n",
       "0          0        689          0          0          0          0   \n",
       "1          0       1000       1000       1000          0       2000   \n",
       "2       1518       1500       1000       1000       1000       5000   \n",
       "3       2000       2019       1200       1100       1069       1000   \n",
       "4       2000      36681      10000       9000        689        679   \n",
       "\n",
       "    avg_balance  avg_payment  default  \n",
       "0   1284.000000   114.833333      yes  \n",
       "1   2846.166667   833.333333      yes  \n",
       "2  16942.166667  1836.333333       no  \n",
       "3  38555.666667  1398.000000       no  \n",
       "4  18223.166667  9841.500000       no  \n",
       "\n",
       "[5 rows x 26 columns]"
      ]
     },
     "execution_count": 32,
     "metadata": {},
     "output_type": "execute_result"
    }
   ],
   "source": [
    "df=pd.read_csv('https://raw.githubusercontent.com/RubixML/Credit/master/dataset.csv')\n",
    "df.head()"
   ]
  },
  {
   "cell_type": "code",
   "execution_count": 33,
   "metadata": {},
   "outputs": [],
   "source": [
    "# Attribute Information:\n",
    "\n",
    "# This research employed a binary variable, default payment (Yes = 1, No = 0), as the response variable. This study reviewed the literature\n",
    "# and used the following 23 variables as explanatory variables: \n",
    "# X1: Amount of the given credit (NT dollar): it includes both the individual consumer credit and his/her family (supplementary) credit. \n",
    "# X2: Gender (1 = male; 0 = female). \n",
    "# X3: Education (1 = graduate school; 2 = university; 3 = high school; 4 = others). \n",
    "# X4: Marital status (1 = married; 2 = single; 3 = others). \n",
    "# X5: Age (year). \n",
    "# X6 - X11: History of past payment. We tracked the past monthly payment records (from April to September, 2005) as follows: X6 = the repayment\n",
    "      # status in September, 2005; X7 = the repayment status in August, 2005; . . .;X11 = the repayment status in April, 2005. The measurement scale for\n",
    "      # the repayment status is: -1 = pay duly; 1 = payment delay for one month; 2 = payment delay for two months; . . .; 8 = payment delay for eight months;\n",
    "      # 9 = payment delay for nine months and above. \n",
    "# X12-X17: Amount of bill statement (NT dollar). X12 = amount of bill statement in September, 2005; X13 = amount of bill statement in August, 2005;\n",
    "          #  . . .; X17 = amount of bill statement in April, 2005. \n",
    "# X18-X23: Amount of previous payment (NT dollar). X18 = amount paid in September, 2005; X19 = amount paid in August, 2005; . . .;\n",
    "          #  X23 = amount paid in April, 2005. "
   ]
  },
  {
   "cell_type": "code",
   "execution_count": 34,
   "metadata": {},
   "outputs": [
    {
     "data": {
      "text/plain": [
       "(30000, 26)"
      ]
     },
     "execution_count": 34,
     "metadata": {},
     "output_type": "execute_result"
    }
   ],
   "source": [
    "df.shape"
   ]
  },
  {
   "cell_type": "code",
   "execution_count": 35,
   "metadata": {},
   "outputs": [
    {
     "name": "stdout",
     "output_type": "stream",
     "text": [
      "Continuous variables are :  Index(['credit_limit', 'age', 'balance_1', 'balance_2', 'balance_3',\n",
      "       'balance_4', 'balance_5', 'balance_6', 'payment_1', 'payment_2',\n",
      "       'payment_3', 'payment_4', 'payment_5', 'payment_6', 'avg_balance',\n",
      "       'avg_payment'],\n",
      "      dtype='object')\n",
      "Categorical Columns are :  Index(['gender', 'education', 'marital_status', 'timeliness_1', 'timeliness_2',\n",
      "       'timeliness_3', 'timeliness_4', 'timeliness_5', 'timeliness_6',\n",
      "       'default'],\n",
      "      dtype='object')\n"
     ]
    }
   ],
   "source": [
    "cat_cols = df.select_dtypes(include = 'object')\n",
    "num_cols = df.select_dtypes(include = np.number)\n",
    "print('Continuous variables are : ',num_cols.columns)\n",
    "print('Categorical Columns are : ',cat_cols.columns)"
   ]
  },
  {
   "cell_type": "code",
   "execution_count": 36,
   "metadata": {},
   "outputs": [
    {
     "data": {
      "text/html": [
       "<div>\n",
       "<style scoped>\n",
       "    .dataframe tbody tr th:only-of-type {\n",
       "        vertical-align: middle;\n",
       "    }\n",
       "\n",
       "    .dataframe tbody tr th {\n",
       "        vertical-align: top;\n",
       "    }\n",
       "\n",
       "    .dataframe thead th {\n",
       "        text-align: right;\n",
       "    }\n",
       "</style>\n",
       "<table border=\"1\" class=\"dataframe\">\n",
       "  <thead>\n",
       "    <tr style=\"text-align: right;\">\n",
       "      <th></th>\n",
       "      <th>credit_limit</th>\n",
       "      <th>age</th>\n",
       "      <th>balance_1</th>\n",
       "      <th>balance_2</th>\n",
       "      <th>balance_3</th>\n",
       "      <th>balance_4</th>\n",
       "      <th>balance_5</th>\n",
       "      <th>balance_6</th>\n",
       "      <th>payment_1</th>\n",
       "      <th>payment_2</th>\n",
       "      <th>payment_3</th>\n",
       "      <th>payment_4</th>\n",
       "      <th>payment_5</th>\n",
       "      <th>payment_6</th>\n",
       "      <th>avg_balance</th>\n",
       "      <th>avg_payment</th>\n",
       "    </tr>\n",
       "  </thead>\n",
       "  <tbody>\n",
       "    <tr>\n",
       "      <th>count</th>\n",
       "      <td>30000.000000</td>\n",
       "      <td>30000.000000</td>\n",
       "      <td>30000.000000</td>\n",
       "      <td>30000.000000</td>\n",
       "      <td>3.000000e+04</td>\n",
       "      <td>30000.000000</td>\n",
       "      <td>30000.000000</td>\n",
       "      <td>30000.000000</td>\n",
       "      <td>30000.000000</td>\n",
       "      <td>3.000000e+04</td>\n",
       "      <td>30000.00000</td>\n",
       "      <td>30000.000000</td>\n",
       "      <td>30000.000000</td>\n",
       "      <td>30000.000000</td>\n",
       "      <td>30000.000000</td>\n",
       "      <td>30000.000000</td>\n",
       "    </tr>\n",
       "    <tr>\n",
       "      <th>mean</th>\n",
       "      <td>167484.322667</td>\n",
       "      <td>35.485500</td>\n",
       "      <td>51223.330900</td>\n",
       "      <td>49179.075167</td>\n",
       "      <td>4.701315e+04</td>\n",
       "      <td>43262.948967</td>\n",
       "      <td>40311.400967</td>\n",
       "      <td>38871.760400</td>\n",
       "      <td>5663.580500</td>\n",
       "      <td>5.921163e+03</td>\n",
       "      <td>5225.68150</td>\n",
       "      <td>4826.076867</td>\n",
       "      <td>4799.387633</td>\n",
       "      <td>5215.502567</td>\n",
       "      <td>44976.945200</td>\n",
       "      <td>5275.232094</td>\n",
       "    </tr>\n",
       "    <tr>\n",
       "      <th>std</th>\n",
       "      <td>129747.661567</td>\n",
       "      <td>9.217904</td>\n",
       "      <td>73635.860576</td>\n",
       "      <td>71173.768783</td>\n",
       "      <td>6.934939e+04</td>\n",
       "      <td>64332.856134</td>\n",
       "      <td>60797.155770</td>\n",
       "      <td>59554.107537</td>\n",
       "      <td>16563.280354</td>\n",
       "      <td>2.304087e+04</td>\n",
       "      <td>17606.96147</td>\n",
       "      <td>15666.159744</td>\n",
       "      <td>15278.305679</td>\n",
       "      <td>17777.465775</td>\n",
       "      <td>63260.721860</td>\n",
       "      <td>10137.946323</td>\n",
       "    </tr>\n",
       "    <tr>\n",
       "      <th>min</th>\n",
       "      <td>10000.000000</td>\n",
       "      <td>21.000000</td>\n",
       "      <td>-165580.000000</td>\n",
       "      <td>-69777.000000</td>\n",
       "      <td>-1.572640e+05</td>\n",
       "      <td>-170000.000000</td>\n",
       "      <td>-81334.000000</td>\n",
       "      <td>-339603.000000</td>\n",
       "      <td>0.000000</td>\n",
       "      <td>0.000000e+00</td>\n",
       "      <td>0.00000</td>\n",
       "      <td>0.000000</td>\n",
       "      <td>0.000000</td>\n",
       "      <td>0.000000</td>\n",
       "      <td>-56043.166667</td>\n",
       "      <td>0.000000</td>\n",
       "    </tr>\n",
       "    <tr>\n",
       "      <th>25%</th>\n",
       "      <td>50000.000000</td>\n",
       "      <td>28.000000</td>\n",
       "      <td>3558.750000</td>\n",
       "      <td>2984.750000</td>\n",
       "      <td>2.666250e+03</td>\n",
       "      <td>2326.750000</td>\n",
       "      <td>1763.000000</td>\n",
       "      <td>1256.000000</td>\n",
       "      <td>1000.000000</td>\n",
       "      <td>8.330000e+02</td>\n",
       "      <td>390.00000</td>\n",
       "      <td>296.000000</td>\n",
       "      <td>252.500000</td>\n",
       "      <td>117.750000</td>\n",
       "      <td>4781.333333</td>\n",
       "      <td>1113.291667</td>\n",
       "    </tr>\n",
       "    <tr>\n",
       "      <th>50%</th>\n",
       "      <td>140000.000000</td>\n",
       "      <td>34.000000</td>\n",
       "      <td>22381.500000</td>\n",
       "      <td>21200.000000</td>\n",
       "      <td>2.008850e+04</td>\n",
       "      <td>19052.000000</td>\n",
       "      <td>18104.500000</td>\n",
       "      <td>17071.000000</td>\n",
       "      <td>2100.000000</td>\n",
       "      <td>2.009000e+03</td>\n",
       "      <td>1800.00000</td>\n",
       "      <td>1500.000000</td>\n",
       "      <td>1500.000000</td>\n",
       "      <td>1500.000000</td>\n",
       "      <td>21051.833333</td>\n",
       "      <td>2397.166667</td>\n",
       "    </tr>\n",
       "    <tr>\n",
       "      <th>75%</th>\n",
       "      <td>240000.000000</td>\n",
       "      <td>41.000000</td>\n",
       "      <td>67091.000000</td>\n",
       "      <td>64006.250000</td>\n",
       "      <td>6.016475e+04</td>\n",
       "      <td>54506.000000</td>\n",
       "      <td>50190.500000</td>\n",
       "      <td>49198.250000</td>\n",
       "      <td>5006.000000</td>\n",
       "      <td>5.000000e+03</td>\n",
       "      <td>4505.00000</td>\n",
       "      <td>4013.250000</td>\n",
       "      <td>4031.500000</td>\n",
       "      <td>4000.000000</td>\n",
       "      <td>57104.416667</td>\n",
       "      <td>5583.916667</td>\n",
       "    </tr>\n",
       "    <tr>\n",
       "      <th>max</th>\n",
       "      <td>1000000.000000</td>\n",
       "      <td>79.000000</td>\n",
       "      <td>964511.000000</td>\n",
       "      <td>983931.000000</td>\n",
       "      <td>1.664089e+06</td>\n",
       "      <td>891586.000000</td>\n",
       "      <td>927171.000000</td>\n",
       "      <td>961664.000000</td>\n",
       "      <td>873552.000000</td>\n",
       "      <td>1.684259e+06</td>\n",
       "      <td>896040.00000</td>\n",
       "      <td>621000.000000</td>\n",
       "      <td>426529.000000</td>\n",
       "      <td>528666.000000</td>\n",
       "      <td>877313.833333</td>\n",
       "      <td>627344.333333</td>\n",
       "    </tr>\n",
       "  </tbody>\n",
       "</table>\n",
       "</div>"
      ],
      "text/plain": [
       "         credit_limit           age      balance_1      balance_2  \\\n",
       "count    30000.000000  30000.000000   30000.000000   30000.000000   \n",
       "mean    167484.322667     35.485500   51223.330900   49179.075167   \n",
       "std     129747.661567      9.217904   73635.860576   71173.768783   \n",
       "min      10000.000000     21.000000 -165580.000000  -69777.000000   \n",
       "25%      50000.000000     28.000000    3558.750000    2984.750000   \n",
       "50%     140000.000000     34.000000   22381.500000   21200.000000   \n",
       "75%     240000.000000     41.000000   67091.000000   64006.250000   \n",
       "max    1000000.000000     79.000000  964511.000000  983931.000000   \n",
       "\n",
       "          balance_3      balance_4      balance_5      balance_6  \\\n",
       "count  3.000000e+04   30000.000000   30000.000000   30000.000000   \n",
       "mean   4.701315e+04   43262.948967   40311.400967   38871.760400   \n",
       "std    6.934939e+04   64332.856134   60797.155770   59554.107537   \n",
       "min   -1.572640e+05 -170000.000000  -81334.000000 -339603.000000   \n",
       "25%    2.666250e+03    2326.750000    1763.000000    1256.000000   \n",
       "50%    2.008850e+04   19052.000000   18104.500000   17071.000000   \n",
       "75%    6.016475e+04   54506.000000   50190.500000   49198.250000   \n",
       "max    1.664089e+06  891586.000000  927171.000000  961664.000000   \n",
       "\n",
       "           payment_1     payment_2     payment_3      payment_4  \\\n",
       "count   30000.000000  3.000000e+04   30000.00000   30000.000000   \n",
       "mean     5663.580500  5.921163e+03    5225.68150    4826.076867   \n",
       "std     16563.280354  2.304087e+04   17606.96147   15666.159744   \n",
       "min         0.000000  0.000000e+00       0.00000       0.000000   \n",
       "25%      1000.000000  8.330000e+02     390.00000     296.000000   \n",
       "50%      2100.000000  2.009000e+03    1800.00000    1500.000000   \n",
       "75%      5006.000000  5.000000e+03    4505.00000    4013.250000   \n",
       "max    873552.000000  1.684259e+06  896040.00000  621000.000000   \n",
       "\n",
       "           payment_5      payment_6    avg_balance    avg_payment  \n",
       "count   30000.000000   30000.000000   30000.000000   30000.000000  \n",
       "mean     4799.387633    5215.502567   44976.945200    5275.232094  \n",
       "std     15278.305679   17777.465775   63260.721860   10137.946323  \n",
       "min         0.000000       0.000000  -56043.166667       0.000000  \n",
       "25%       252.500000     117.750000    4781.333333    1113.291667  \n",
       "50%      1500.000000    1500.000000   21051.833333    2397.166667  \n",
       "75%      4031.500000    4000.000000   57104.416667    5583.916667  \n",
       "max    426529.000000  528666.000000  877313.833333  627344.333333  "
      ]
     },
     "execution_count": 36,
     "metadata": {},
     "output_type": "execute_result"
    }
   ],
   "source": [
    "df.describe()"
   ]
  },
  {
   "cell_type": "code",
   "execution_count": 37,
   "metadata": {},
   "outputs": [
    {
     "name": "stdout",
     "output_type": "stream",
     "text": [
      "<class 'pandas.core.frame.DataFrame'>\n",
      "RangeIndex: 30000 entries, 0 to 29999\n",
      "Data columns (total 26 columns):\n",
      " #   Column          Non-Null Count  Dtype  \n",
      "---  ------          --------------  -----  \n",
      " 0   credit_limit    30000 non-null  int64  \n",
      " 1   gender          30000 non-null  object \n",
      " 2   education       30000 non-null  object \n",
      " 3   marital_status  30000 non-null  object \n",
      " 4   age             30000 non-null  int64  \n",
      " 5   timeliness_1    30000 non-null  object \n",
      " 6   timeliness_2    30000 non-null  object \n",
      " 7   timeliness_3    30000 non-null  object \n",
      " 8   timeliness_4    30000 non-null  object \n",
      " 9   timeliness_5    30000 non-null  object \n",
      " 10  timeliness_6    30000 non-null  object \n",
      " 11  balance_1       30000 non-null  int64  \n",
      " 12  balance_2       30000 non-null  int64  \n",
      " 13  balance_3       30000 non-null  int64  \n",
      " 14  balance_4       30000 non-null  int64  \n",
      " 15  balance_5       30000 non-null  int64  \n",
      " 16  balance_6       30000 non-null  int64  \n",
      " 17  payment_1       30000 non-null  int64  \n",
      " 18  payment_2       30000 non-null  int64  \n",
      " 19  payment_3       30000 non-null  int64  \n",
      " 20  payment_4       30000 non-null  int64  \n",
      " 21  payment_5       30000 non-null  int64  \n",
      " 22  payment_6       30000 non-null  int64  \n",
      " 23  avg_balance     30000 non-null  float64\n",
      " 24  avg_payment     30000 non-null  float64\n",
      " 25  default         30000 non-null  object \n",
      "dtypes: float64(2), int64(14), object(10)\n",
      "memory usage: 6.0+ MB\n"
     ]
    }
   ],
   "source": [
    "df.info()"
   ]
  },
  {
   "cell_type": "code",
   "execution_count": 38,
   "metadata": {},
   "outputs": [
    {
     "name": "stdout",
     "output_type": "stream",
     "text": [
      "% Values in each categorical columns\n",
      "\n",
      "% Values in column  gender\n",
      "female    60.373333\n",
      "male      39.626667\n",
      "Name: gender, dtype: float64\n",
      "\n",
      "% Values in column  education\n",
      "uni       46.766667\n",
      "grad      35.283333\n",
      "hs        16.390000\n",
      "other2     0.933333\n",
      "other1     0.410000\n",
      "other3     0.170000\n",
      "0          0.046667\n",
      "Name: education, dtype: float64\n",
      "\n",
      "% Values in column  marital_status\n",
      "single     53.213333\n",
      "married    45.530000\n",
      "other       1.076667\n",
      "na          0.180000\n",
      "Name: marital_status, dtype: float64\n",
      "\n",
      "% Values in column  timeliness_1\n",
      "m+0    49.123333\n",
      "m-1    18.953333\n",
      "m+1    12.293333\n",
      "m-2     9.196667\n",
      "m+2     8.890000\n",
      "m+3     1.073333\n",
      "m+4     0.253333\n",
      "m+5     0.086667\n",
      "m+8     0.063333\n",
      "m+6     0.036667\n",
      "m+7     0.030000\n",
      "Name: timeliness_1, dtype: float64\n",
      "\n",
      "% Values in column  timeliness_2\n",
      "m+0    52.433333\n",
      "m-1    20.166667\n",
      "m+2    13.090000\n",
      "m-2    12.606667\n",
      "m+3     1.086667\n",
      "m+4     0.330000\n",
      "m+1     0.093333\n",
      "m+5     0.083333\n",
      "m+7     0.066667\n",
      "m+6     0.040000\n",
      "m+8     0.003333\n",
      "Name: timeliness_2, dtype: float64\n",
      "\n",
      "% Values in column  timeliness_3\n",
      "m+0    52.546667\n",
      "m-1    19.793333\n",
      "m-2    13.616667\n",
      "m+2    12.730000\n",
      "m+3     0.800000\n",
      "m+4     0.253333\n",
      "m+7     0.090000\n",
      "m+6     0.076667\n",
      "m+5     0.070000\n",
      "m+1     0.013333\n",
      "m+8     0.010000\n",
      "Name: timeliness_3, dtype: float64\n",
      "\n",
      "% Values in column  timeliness_4\n",
      "m+0    54.850000\n",
      "m-1    18.956667\n",
      "m-2    14.493333\n",
      "m+2    10.530000\n",
      "m+3     0.600000\n",
      "m+4     0.230000\n",
      "m+7     0.193333\n",
      "m+5     0.116667\n",
      "m+6     0.016667\n",
      "m+8     0.006667\n",
      "m+1     0.006667\n",
      "Name: timeliness_4, dtype: float64\n",
      "\n",
      "% Values in column  timeliness_5\n",
      "m+0    56.490000\n",
      "m-1    18.463333\n",
      "m-2    15.153333\n",
      "m+2     8.753333\n",
      "m+3     0.593333\n",
      "m+4     0.280000\n",
      "m+7     0.193333\n",
      "m+5     0.056667\n",
      "m+6     0.013333\n",
      "m+8     0.003333\n",
      "Name: timeliness_5, dtype: float64\n",
      "\n",
      "% Values in column  timeliness_6\n",
      "m+0    54.286667\n",
      "m-1    19.133333\n",
      "m-2    16.316667\n",
      "m+2     9.220000\n",
      "m+3     0.613333\n",
      "m+4     0.163333\n",
      "m+7     0.153333\n",
      "m+6     0.063333\n",
      "m+5     0.043333\n",
      "m+8     0.006667\n",
      "Name: timeliness_6, dtype: float64\n",
      "\n",
      "% Values in column  default\n",
      "no     77.88\n",
      "yes    22.12\n",
      "Name: default, dtype: float64\n"
     ]
    }
   ],
   "source": [
    "print('% Values in each categorical columns')\n",
    "for i in cat_cols.columns:\n",
    "    print('\\n% Values in column ',i)\n",
    "    print((df[i].value_counts()/len(df[i])*100))"
   ]
  },
  {
   "cell_type": "code",
   "execution_count": 39,
   "metadata": {},
   "outputs": [
    {
     "data": {
      "text/plain": [
       "credit_limit      0\n",
       "gender            0\n",
       "education         0\n",
       "marital_status    0\n",
       "age               0\n",
       "timeliness_1      0\n",
       "timeliness_2      0\n",
       "timeliness_3      0\n",
       "timeliness_4      0\n",
       "timeliness_5      0\n",
       "timeliness_6      0\n",
       "balance_1         0\n",
       "balance_2         0\n",
       "balance_3         0\n",
       "balance_4         0\n",
       "balance_5         0\n",
       "balance_6         0\n",
       "payment_1         0\n",
       "payment_2         0\n",
       "payment_3         0\n",
       "payment_4         0\n",
       "payment_5         0\n",
       "payment_6         0\n",
       "avg_balance       0\n",
       "avg_payment       0\n",
       "default           0\n",
       "dtype: int64"
      ]
     },
     "execution_count": 39,
     "metadata": {},
     "output_type": "execute_result"
    }
   ],
   "source": [
    "# Checking for defects in the data such as missing values\n",
    "df.isnull().sum()"
   ]
  },
  {
   "cell_type": "code",
   "execution_count": 40,
   "metadata": {},
   "outputs": [
    {
     "data": {
      "text/plain": [
       "Text(0.5, 1.0, 'Probability Of Defaulting Payment Next Month')"
      ]
     },
     "execution_count": 40,
     "metadata": {},
     "output_type": "execute_result"
    },
    {
     "data": {
      "image/png": "[encoded data removed]",
      "text/plain": [
       "<Figure size 432x432 with 1 Axes>"
      ]
     },
     "metadata": {
      "needs_background": "light"
     },
     "output_type": "display_data"
    }
   ],
   "source": [
    "# Visualisation of Target feature\n",
    "def_cnt = (df.default.value_counts(normalize=True)*100)\n",
    "def_cnt.plot.bar(figsize=(6,6))\n",
    "plt.xticks(fontsize=12, rotation=0)\n",
    "plt.yticks(fontsize=12)\n",
    "plt.title(\"Probability Of Defaulting Payment Next Month\", fontsize=15)"
   ]
  },
  {
   "cell_type": "code",
   "execution_count": 41,
   "metadata": {},
   "outputs": [
    {
     "data": {
      "image/png": "[encoded data removed]",
      "text/plain": [
       "<Figure size 720x1440 with 16 Axes>"
      ]
     },
     "metadata": {
      "needs_background": "light"
     },
     "output_type": "display_data"
    }
   ],
   "source": [
    "# Checking the outliers\n",
    "plt.figure(figsize=(10,20))\n",
    "for i,col in enumerate(num_cols,1):\n",
    "    plt.subplot(16,1,i)\n",
    "    sns.boxplot(df[col])\n",
    "    plt.ylabel(col)\n",
    "plt.show()"
   ]
  },
  {
   "cell_type": "code",
   "execution_count": 42,
   "metadata": {},
   "outputs": [],
   "source": [
    "# Checking the missing values\n",
    "missing_value=[\"na\"]\n",
    "df=pd.read_csv('https://raw.githubusercontent.com/RubixML/Credit/master/dataset.csv',na_values=missing_value)"
   ]
  },
  {
   "cell_type": "code",
   "execution_count": 43,
   "metadata": {},
   "outputs": [],
   "source": [
    "df['marital_status']=df['marital_status'].replace('na',np.nan)"
   ]
  },
  {
   "cell_type": "code",
   "execution_count": 44,
   "metadata": {},
   "outputs": [
    {
     "data": {
      "text/plain": [
       "credit_limit      0.0000\n",
       "gender            0.0000\n",
       "education         0.0000\n",
       "marital_status    0.0018\n",
       "age               0.0000\n",
       "timeliness_1      0.0000\n",
       "timeliness_2      0.0000\n",
       "timeliness_3      0.0000\n",
       "timeliness_4      0.0000\n",
       "timeliness_5      0.0000\n",
       "timeliness_6      0.0000\n",
       "balance_1         0.0000\n",
       "balance_2         0.0000\n",
       "balance_3         0.0000\n",
       "balance_4         0.0000\n",
       "balance_5         0.0000\n",
       "balance_6         0.0000\n",
       "payment_1         0.0000\n",
       "payment_2         0.0000\n",
       "payment_3         0.0000\n",
       "payment_4         0.0000\n",
       "payment_5         0.0000\n",
       "payment_6         0.0000\n",
       "avg_balance       0.0000\n",
       "avg_payment       0.0000\n",
       "default           0.0000\n",
       "dtype: float64"
      ]
     },
     "execution_count": 44,
     "metadata": {},
     "output_type": "execute_result"
    }
   ],
   "source": [
    "df.isnull().sum()/len(df)"
   ]
  },
  {
   "cell_type": "code",
   "execution_count": 45,
   "metadata": {},
   "outputs": [],
   "source": [
    "# Creating a copy of dataset\n",
    "df1= df.copy(deep=True)"
   ]
  },
  {
   "cell_type": "code",
   "execution_count": 46,
   "metadata": {},
   "outputs": [
    {
     "data": {
      "text/plain": [
       "single     15964\n",
       "married    13659\n",
       "other        323\n",
       "Name: marital_status, dtype: int64"
      ]
     },
     "execution_count": 46,
     "metadata": {},
     "output_type": "execute_result"
    },
    {
     "data": {
      "image/png": "[encoded data removed]",
      "text/plain": [
       "<Figure size 432x288 with 1 Axes>"
      ]
     },
     "metadata": {
      "needs_background": "light"
     },
     "output_type": "display_data"
    }
   ],
   "source": [
    "# Checking the distribution of marital status\n",
    "sns.countplot(df1['marital_status'])\n",
    "df1['marital_status'].value_counts()"
   ]
  },
  {
   "cell_type": "code",
   "execution_count": 47,
   "metadata": {},
   "outputs": [],
   "source": [
    "# sns.scatterplot(x=df['age'],y=df['marital_status'])\n",
    "df1['marital_status']= df1['marital_status'].fillna(df1['marital_status'].mode()[0])"
   ]
  },
  {
   "cell_type": "code",
   "execution_count": 48,
   "metadata": {},
   "outputs": [
    {
     "data": {
      "text/plain": [
       "0"
      ]
     },
     "execution_count": 48,
     "metadata": {},
     "output_type": "execute_result"
    }
   ],
   "source": [
    "df1['marital_status'].isnull().sum()\n",
    "# df1['marital_status'].unique()"
   ]
  },
  {
   "cell_type": "code",
   "execution_count": 49,
   "metadata": {},
   "outputs": [
    {
     "data": {
      "text/plain": [
       "<matplotlib.axes._subplots.AxesSubplot at 0x208c38d49d0>"
      ]
     },
     "execution_count": 49,
     "metadata": {},
     "output_type": "execute_result"
    },
    {
     "data": {
      "image/png": "[encoded data removed]",
      "text/plain": [
       "<Figure size 432x288 with 1 Axes>"
      ]
     },
     "metadata": {
      "needs_background": "light"
     },
     "output_type": "display_data"
    }
   ],
   "source": [
    "sns.countplot(df1['marital_status'])"
   ]
  },
  {
   "cell_type": "code",
   "execution_count": 50,
   "metadata": {},
   "outputs": [
    {
     "data": {
      "text/plain": [
       "single     16018\n",
       "married    13659\n",
       "other        323\n",
       "Name: marital_status, dtype: int64"
      ]
     },
     "execution_count": 50,
     "metadata": {},
     "output_type": "execute_result"
    }
   ],
   "source": [
    "df1['marital_status'].value_counts()"
   ]
  },
  {
   "cell_type": "code",
   "execution_count": 51,
   "metadata": {},
   "outputs": [
    {
     "data": {
      "text/plain": [
       "uni       14030\n",
       "grad      10585\n",
       "hs         4917\n",
       "others      468\n",
       "Name: education, dtype: int64"
      ]
     },
     "execution_count": 51,
     "metadata": {},
     "output_type": "execute_result"
    }
   ],
   "source": [
    "df1['education'].replace(to_replace =[\"other1\", \"other2\", \"other3\", \"0\"], value = \"others\", inplace=True)\n",
    "df1['education'].value_counts()"
   ]
  },
  {
   "cell_type": "code",
   "execution_count": 52,
   "metadata": {},
   "outputs": [
    {
     "data": {
      "text/plain": [
       "(30000, 26)"
      ]
     },
     "execution_count": 52,
     "metadata": {},
     "output_type": "execute_result"
    }
   ],
   "source": [
    "df1.shape"
   ]
  },
  {
   "cell_type": "code",
   "execution_count": 53,
   "metadata": {},
   "outputs": [],
   "source": [
    "from sklearn.preprocessing import OrdinalEncoder\n",
    "df1['education']=OrdinalEncoder(categories=[['others','hs','grad','uni']]).fit_transform(df1['education'].values.reshape(-1,1))"
   ]
  },
  {
   "cell_type": "code",
   "execution_count": 54,
   "metadata": {},
   "outputs": [],
   "source": [
    "df1['education']=df1['education'].astype(int)"
   ]
  },
  {
   "cell_type": "code",
   "execution_count": 55,
   "metadata": {},
   "outputs": [
    {
     "data": {
      "text/plain": [
       "3    14030\n",
       "2    10585\n",
       "1     4917\n",
       "0      468\n",
       "Name: education, dtype: int64"
      ]
     },
     "execution_count": 55,
     "metadata": {},
     "output_type": "execute_result"
    }
   ],
   "source": [
    "df1['education'].value_counts()"
   ]
  },
  {
   "cell_type": "code",
   "execution_count": 56,
   "metadata": {},
   "outputs": [
    {
     "data": {
      "text/plain": [
       "single     0.533933\n",
       "married    0.455300\n",
       "other      0.010767\n",
       "Name: marital_status, dtype: float64"
      ]
     },
     "execution_count": 56,
     "metadata": {},
     "output_type": "execute_result"
    }
   ],
   "source": [
    "df1['marital_status']=df1['marital_status'].replace({0:3})\n",
    "df1['marital_status'].value_counts(normalize=True)"
   ]
  },
  {
   "cell_type": "code",
   "execution_count": 57,
   "metadata": {},
   "outputs": [
    {
     "data": {
      "text/plain": [
       "m+0    14737\n",
       "m-1     5686\n",
       "m+1     3688\n",
       "m-2     2759\n",
       "m+2     2667\n",
       "m+3      322\n",
       "m+4       76\n",
       "m+5       26\n",
       "m+8       19\n",
       "m+6       11\n",
       "m+7        9\n",
       "Name: timeliness_1, dtype: int64"
      ]
     },
     "execution_count": 57,
     "metadata": {},
     "output_type": "execute_result"
    }
   ],
   "source": [
    "# Checking for timeliness variables\n",
    "df1['timeliness_1'].value_counts()"
   ]
  },
  {
   "cell_type": "code",
   "execution_count": 58,
   "metadata": {},
   "outputs": [],
   "source": [
    "#replacing the prefix from timeline feature\n",
    "df1.replace(['m+8', 'm+7', 'm+6', 'm+5', 'm+4', 'm+3', 'm+2', 'm+1', 'm+0', 'm-1', 'm-2'],['8', '7', '6', '5', '4', '3', '2', '1', '0', '-1', '-2'], inplace=True)"
   ]
  },
  {
   "cell_type": "code",
   "execution_count": 59,
   "metadata": {},
   "outputs": [
    {
     "data": {
      "text/html": [
       "<div>\n",
       "<style scoped>\n",
       "    .dataframe tbody tr th:only-of-type {\n",
       "        vertical-align: middle;\n",
       "    }\n",
       "\n",
       "    .dataframe tbody tr th {\n",
       "        vertical-align: top;\n",
       "    }\n",
       "\n",
       "    .dataframe thead th {\n",
       "        text-align: right;\n",
       "    }\n",
       "</style>\n",
       "<table border=\"1\" class=\"dataframe\">\n",
       "  <thead>\n",
       "    <tr style=\"text-align: right;\">\n",
       "      <th></th>\n",
       "      <th>credit_limit</th>\n",
       "      <th>gender</th>\n",
       "      <th>education</th>\n",
       "      <th>marital_status</th>\n",
       "      <th>age</th>\n",
       "      <th>timeliness_1</th>\n",
       "      <th>timeliness_2</th>\n",
       "      <th>timeliness_3</th>\n",
       "      <th>timeliness_4</th>\n",
       "      <th>timeliness_5</th>\n",
       "      <th>...</th>\n",
       "      <th>balance_6</th>\n",
       "      <th>payment_1</th>\n",
       "      <th>payment_2</th>\n",
       "      <th>payment_3</th>\n",
       "      <th>payment_4</th>\n",
       "      <th>payment_5</th>\n",
       "      <th>payment_6</th>\n",
       "      <th>avg_balance</th>\n",
       "      <th>avg_payment</th>\n",
       "      <th>default</th>\n",
       "    </tr>\n",
       "  </thead>\n",
       "  <tbody>\n",
       "    <tr>\n",
       "      <th>0</th>\n",
       "      <td>20000</td>\n",
       "      <td>female</td>\n",
       "      <td>3</td>\n",
       "      <td>married</td>\n",
       "      <td>24</td>\n",
       "      <td>2</td>\n",
       "      <td>2</td>\n",
       "      <td>-1</td>\n",
       "      <td>-1</td>\n",
       "      <td>-2</td>\n",
       "      <td>...</td>\n",
       "      <td>0</td>\n",
       "      <td>0</td>\n",
       "      <td>689</td>\n",
       "      <td>0</td>\n",
       "      <td>0</td>\n",
       "      <td>0</td>\n",
       "      <td>0</td>\n",
       "      <td>1284.000000</td>\n",
       "      <td>114.833333</td>\n",
       "      <td>yes</td>\n",
       "    </tr>\n",
       "    <tr>\n",
       "      <th>1</th>\n",
       "      <td>120000</td>\n",
       "      <td>female</td>\n",
       "      <td>3</td>\n",
       "      <td>single</td>\n",
       "      <td>26</td>\n",
       "      <td>-1</td>\n",
       "      <td>2</td>\n",
       "      <td>0</td>\n",
       "      <td>0</td>\n",
       "      <td>0</td>\n",
       "      <td>...</td>\n",
       "      <td>3261</td>\n",
       "      <td>0</td>\n",
       "      <td>1000</td>\n",
       "      <td>1000</td>\n",
       "      <td>1000</td>\n",
       "      <td>0</td>\n",
       "      <td>2000</td>\n",
       "      <td>2846.166667</td>\n",
       "      <td>833.333333</td>\n",
       "      <td>yes</td>\n",
       "    </tr>\n",
       "    <tr>\n",
       "      <th>2</th>\n",
       "      <td>90000</td>\n",
       "      <td>female</td>\n",
       "      <td>3</td>\n",
       "      <td>single</td>\n",
       "      <td>34</td>\n",
       "      <td>0</td>\n",
       "      <td>0</td>\n",
       "      <td>0</td>\n",
       "      <td>0</td>\n",
       "      <td>0</td>\n",
       "      <td>...</td>\n",
       "      <td>15549</td>\n",
       "      <td>1518</td>\n",
       "      <td>1500</td>\n",
       "      <td>1000</td>\n",
       "      <td>1000</td>\n",
       "      <td>1000</td>\n",
       "      <td>5000</td>\n",
       "      <td>16942.166667</td>\n",
       "      <td>1836.333333</td>\n",
       "      <td>no</td>\n",
       "    </tr>\n",
       "    <tr>\n",
       "      <th>3</th>\n",
       "      <td>50000</td>\n",
       "      <td>female</td>\n",
       "      <td>3</td>\n",
       "      <td>married</td>\n",
       "      <td>37</td>\n",
       "      <td>0</td>\n",
       "      <td>0</td>\n",
       "      <td>0</td>\n",
       "      <td>0</td>\n",
       "      <td>0</td>\n",
       "      <td>...</td>\n",
       "      <td>29547</td>\n",
       "      <td>2000</td>\n",
       "      <td>2019</td>\n",
       "      <td>1200</td>\n",
       "      <td>1100</td>\n",
       "      <td>1069</td>\n",
       "      <td>1000</td>\n",
       "      <td>38555.666667</td>\n",
       "      <td>1398.000000</td>\n",
       "      <td>no</td>\n",
       "    </tr>\n",
       "    <tr>\n",
       "      <th>4</th>\n",
       "      <td>50000</td>\n",
       "      <td>male</td>\n",
       "      <td>3</td>\n",
       "      <td>married</td>\n",
       "      <td>57</td>\n",
       "      <td>-1</td>\n",
       "      <td>0</td>\n",
       "      <td>-1</td>\n",
       "      <td>0</td>\n",
       "      <td>0</td>\n",
       "      <td>...</td>\n",
       "      <td>19131</td>\n",
       "      <td>2000</td>\n",
       "      <td>36681</td>\n",
       "      <td>10000</td>\n",
       "      <td>9000</td>\n",
       "      <td>689</td>\n",
       "      <td>679</td>\n",
       "      <td>18223.166667</td>\n",
       "      <td>9841.500000</td>\n",
       "      <td>no</td>\n",
       "    </tr>\n",
       "  </tbody>\n",
       "</table>\n",
       "<p>5 rows × 26 columns</p>\n",
       "</div>"
      ],
      "text/plain": [
       "   credit_limit  gender  education marital_status  age timeliness_1  \\\n",
       "0         20000  female          3        married   24            2   \n",
       "1        120000  female          3         single   26           -1   \n",
       "2         90000  female          3         single   34            0   \n",
       "3         50000  female          3        married   37            0   \n",
       "4         50000    male          3        married   57           -1   \n",
       "\n",
       "  timeliness_2 timeliness_3 timeliness_4 timeliness_5  ... balance_6  \\\n",
       "0            2           -1           -1           -2  ...         0   \n",
       "1            2            0            0            0  ...      3261   \n",
       "2            0            0            0            0  ...     15549   \n",
       "3            0            0            0            0  ...     29547   \n",
       "4            0           -1            0            0  ...     19131   \n",
       "\n",
       "   payment_1  payment_2  payment_3  payment_4  payment_5  payment_6  \\\n",
       "0          0        689          0          0          0          0   \n",
       "1          0       1000       1000       1000          0       2000   \n",
       "2       1518       1500       1000       1000       1000       5000   \n",
       "3       2000       2019       1200       1100       1069       1000   \n",
       "4       2000      36681      10000       9000        689        679   \n",
       "\n",
       "    avg_balance  avg_payment  default  \n",
       "0   1284.000000   114.833333      yes  \n",
       "1   2846.166667   833.333333      yes  \n",
       "2  16942.166667  1836.333333       no  \n",
       "3  38555.666667  1398.000000       no  \n",
       "4  18223.166667  9841.500000       no  \n",
       "\n",
       "[5 rows x 26 columns]"
      ]
     },
     "execution_count": 59,
     "metadata": {},
     "output_type": "execute_result"
    }
   ],
   "source": [
    "df1.head()"
   ]
  },
  {
   "cell_type": "code",
   "execution_count": 60,
   "metadata": {},
   "outputs": [
    {
     "name": "stdout",
     "output_type": "stream",
     "text": [
      "Continuous variables are :  Index(['credit_limit', 'education', 'age', 'balance_1', 'balance_2',\n",
      "       'balance_3', 'balance_4', 'balance_5', 'balance_6', 'payment_1',\n",
      "       'payment_2', 'payment_3', 'payment_4', 'payment_5', 'payment_6',\n",
      "       'avg_balance', 'avg_payment'],\n",
      "      dtype='object')\n",
      "Categorical Columns are :  Index(['gender', 'marital_status', 'timeliness_1', 'timeliness_2',\n",
      "       'timeliness_3', 'timeliness_4', 'timeliness_5', 'timeliness_6',\n",
      "       'default'],\n",
      "      dtype='object')\n"
     ]
    }
   ],
   "source": [
    "cat_cols1 = df1.select_dtypes(include = 'object')\n",
    "num_cols1 = df1.select_dtypes(include = np.number)\n",
    "print('Continuous variables are : ',num_cols1.columns)\n",
    "print('Categorical Columns are : ',cat_cols1.columns)"
   ]
  },
  {
   "cell_type": "code",
   "execution_count": 61,
   "metadata": {},
   "outputs": [
    {
     "data": {
      "image/png": "[encoded data removed]",
      "text/plain": [
       "<Figure size 1080x2160 with 8 Axes>"
      ]
     },
     "metadata": {
      "needs_background": "light"
     },
     "output_type": "display_data"
    }
   ],
   "source": [
    "#countplot for categorical vriables\n",
    "plt.figure(figsize=(15,30))\n",
    "for i,col in enumerate(cat_cols1,1):\n",
    "    if col=='default':\n",
    "        break\n",
    "    plt.subplot(8,2,i)\n",
    "    sns.countplot(x=col, hue=\"default\", data=df1, palette=\"Set2\")\n",
    "    plt.xlabel(col)\n",
    "plt.show()"
   ]
  },
  {
   "cell_type": "code",
   "execution_count": 62,
   "metadata": {},
   "outputs": [
    {
     "data": {
      "image/png": "[encoded data removed]",
      "text/plain": [
       "<Figure size 720x1440 with 17 Axes>"
      ]
     },
     "metadata": {
      "needs_background": "light"
     },
     "output_type": "display_data"
    }
   ],
   "source": [
    "plt.figure(figsize=(10,20))\n",
    "for i,col in enumerate(num_cols1,1):\n",
    "    plt.subplot(16,2,i)\n",
    "    sns.boxplot(df1[col])\n",
    "    plt.ylabel(col)\n",
    "plt.show()"
   ]
  },
  {
   "cell_type": "code",
   "execution_count": 63,
   "metadata": {},
   "outputs": [],
   "source": [
    "# # Create a new column \"HAS_DEF\" to indicate customers who have at least 1 deafult payment from PAY_1 to Pay_6\n",
    "# # 0 : no default ; 1: has default\n",
    "\n",
    "# def_condition = (df.payment_1 >1) | (df.payment_2 >1) | (df.payment_3 >1) | (df.payment_4 >1) | (df.payment_5 >1) | (df.payment_6 >1)\n",
    "# df.loc[def_condition, \"HAS_DEF\"] = 1\n",
    "# df.loc[df.HAS_DEF.isna(), \"HAS_DEF\"] = 0"
   ]
  },
  {
   "cell_type": "code",
   "execution_count": 64,
   "metadata": {},
   "outputs": [],
   "source": [
    "# Define a function to plot stacked bar chart since there will be multiple stacked bars charts to plot\n",
    "\n",
    "def create_stacked_bar(column_name):\n",
    "\n",
    "    # Get the percentage of default by each group\n",
    "    default_by_group = pd.crosstab(index=df1['default'],columns = df1[column_name], normalize = 'columns')\n",
    "    \n",
    "    # Round up to 2 decimal\n",
    "    default_by_group = default_by_group.apply(lambda x: round(x,2))\n",
    "    \n",
    "    labels = default_by_group.columns\n",
    "    list1 = default_by_group.iloc[0].to_list()\n",
    "    list2 = default_by_group.iloc[1].to_list()\n",
    "    \n",
    "    list1_name = \"No default\"\n",
    "    list2_name = \"Has default\"\n",
    "    title = f\"Default by {column_name}\"\n",
    "    xlabel = column_name\n",
    "    ylabel = \"Default percentage\"\n",
    "    \n",
    "    fig, ax = plt.subplots(figsize=(10, 5))\n",
    "    bar_width = 0.5\n",
    "    \n",
    "    ax1 = ax.bar(labels,list1, bar_width, label = list1_name)\n",
    "    ax2 = ax.bar(labels,list2, bar_width, bottom = list1, label = list2_name)\n",
    "\n",
    "    ax.set_title(title, fontweight = \"bold\")\n",
    "    ax.set_xlabel(xlabel, fontweight = \"bold\")\n",
    "    ax.set_ylabel(ylabel, fontweight = \"bold\")\n",
    "    ax.legend(loc=\"best\")\n",
    "    \n",
    "    plt.xticks(list(range(len(labels))), labels,rotation=90)\n",
    "    plt.yticks(fontsize=9)\n",
    "\n",
    "    for r1, r2 in zip(ax1, ax2):\n",
    "        h1 = r1.get_height()\n",
    "        h2 = r2.get_height()\n",
    "        plt.text(r1.get_x() + r1.get_width() / 2., h1 / 2., f\"{h1:.0%}\", ha=\"center\", va=\"center\", color=\"white\", fontsize=9, fontweight=\"bold\")\n",
    "        plt.text(r2.get_x() + r2.get_width() / 2., h1 + h2 / 2., f\"{h2:.0%}\", ha=\"center\", va=\"center\", color=\"white\", fontsize=9, fontweight=\"bold\")\n",
    "\n",
    "    plt.show()"
   ]
  },
  {
   "cell_type": "code",
   "execution_count": 65,
   "metadata": {},
   "outputs": [
    {
     "data": {
      "image/png": "[encoded data removed]",
      "text/plain": [
       "<Figure size 720x360 with 1 Axes>"
      ]
     },
     "metadata": {
      "needs_background": "light"
     },
     "output_type": "display_data"
    }
   ],
   "source": [
    "create_stacked_bar('gender')"
   ]
  },
  {
   "cell_type": "code",
   "execution_count": 66,
   "metadata": {},
   "outputs": [
    {
     "data": {
      "image/png": "[encoded data removed]",
      "text/plain": [
       "<Figure size 720x360 with 1 Axes>"
      ]
     },
     "metadata": {
      "needs_background": "light"
     },
     "output_type": "display_data"
    }
   ],
   "source": [
    "create_stacked_bar('education')"
   ]
  },
  {
   "cell_type": "markdown",
   "metadata": {},
   "source": [
    "#The data indicates customers with lower education levels default more. Customers with high school and university educational level had higher default percentages than customers with grad school education did."
   ]
  },
  {
   "cell_type": "code",
   "execution_count": 67,
   "metadata": {},
   "outputs": [
    {
     "data": {
      "image/png": "[encoded data removed]",
      "text/plain": [
       "<Figure size 432x288 with 1 Axes>"
      ]
     },
     "metadata": {
      "needs_background": "light"
     },
     "output_type": "display_data"
    }
   ],
   "source": [
    "data = []\n",
    "for i in [0,1,2,3]:\n",
    "    temp = df1.loc[df1.education == i, \"credit_limit\"]\n",
    "    data.append(temp)\n",
    "\n",
    "fig, ax = plt.subplots()\n",
    "ax.boxplot(data)\n",
    "ax.set_xticklabels([\"others\",\"grad school\", \"university\", \"high school\"])\n",
    "\n",
    "plt.show()"
   ]
  },
  {
   "cell_type": "markdown",
   "metadata": {},
   "source": [
    "#From the boxplot, we can see that customers with grad school education have the highest 25% percentile,highest median,highest 75th percentile and highest maximum numbers, which proves that customers with higher education levels did get higher credit limits."
   ]
  },
  {
   "cell_type": "code",
   "execution_count": 68,
   "metadata": {},
   "outputs": [
    {
     "data": {
      "image/png": "[encoded data removed]",
      "text/plain": [
       "<Figure size 720x360 with 1 Axes>"
      ]
     },
     "metadata": {
      "needs_background": "light"
     },
     "output_type": "display_data"
    }
   ],
   "source": [
    "create_stacked_bar('marital_status')"
   ]
  },
  {
   "cell_type": "markdown",
   "metadata": {},
   "source": [
    "#There is no difference of default risk in terms of marital status, although the 'other'marital status group had high default percentage."
   ]
  },
  {
   "cell_type": "code",
   "execution_count": 69,
   "metadata": {},
   "outputs": [],
   "source": [
    "# Creating bins for Age column\n",
    "bins= [21,30,40,50,60,70,80]\n",
    "labels = ['20-30','30-40','40-50','50-60','60-70','70-80']\n",
    "df1['age'] = pd.cut(df1['age'],bins=bins, labels=labels,right=False)"
   ]
  },
  {
   "cell_type": "code",
   "execution_count": 70,
   "metadata": {},
   "outputs": [
    {
     "data": {
      "image/png": "[encoded data removed]",
      "text/plain": [
       "<Figure size 720x360 with 1 Axes>"
      ]
     },
     "metadata": {
      "needs_background": "light"
     },
     "output_type": "display_data"
    }
   ],
   "source": [
    "create_stacked_bar('age')"
   ]
  },
  {
   "cell_type": "markdown",
   "metadata": {},
   "source": [
    "#Customers aged between 30-50 had the lowest delayed payment rate, while younger groups (20-30) and older groups (50-70) all had higher delayed payment rates. However, the delayed rate dropped slightly again in customers older than 70 years."
   ]
  },
  {
   "cell_type": "markdown",
   "metadata": {},
   "source": [
    "# Correlation between education and default:\n"
   ]
  },
  {
   "cell_type": "markdown",
   "metadata": {},
   "source": [
    "We will use a Chi-squared test to verify this finding.\n",
    "\n",
    "Null hypothesis: education does not affect default likelihood.\n",
    "\n",
    "Alternative hypothesis: education impacts default likelihood.\n",
    "\n",
    "Set significance level  α  to 0.05"
   ]
  },
  {
   "cell_type": "code",
   "execution_count": 71,
   "metadata": {},
   "outputs": [],
   "source": [
    "edu_def_contigence = pd.crosstab(df1['default'], df1['education'], margins=False)"
   ]
  },
  {
   "cell_type": "code",
   "execution_count": 72,
   "metadata": {},
   "outputs": [
    {
     "data": {
      "text/plain": [
       "1.495064564810615e-34"
      ]
     },
     "execution_count": 72,
     "metadata": {},
     "output_type": "execute_result"
    }
   ],
   "source": [
    "from scipy.stats import chisquare\n",
    "from scipy.stats import chi2_contingency\n",
    "stat, p, dof, expected = chi2_contingency(edu_def_contigence)\n",
    "\n",
    "p"
   ]
  },
  {
   "cell_type": "markdown",
   "metadata": {},
   "source": [
    "Since the p value is close to 0, we will reject the null hypothesis and accept the alternative hypothesis. Because education has a strong correlation with default probability."
   ]
  },
  {
   "cell_type": "markdown",
   "metadata": {},
   "source": [
    "# Correlation between Age and default"
   ]
  },
  {
   "cell_type": "markdown",
   "metadata": {},
   "source": [
    "Null hypothesis: age does not affect default likelihood.\n",
    "\n",
    "Alternative hypothesis: age impacts default likelihood.\n",
    "\n",
    "Set significance level  α  to 0.05"
   ]
  },
  {
   "cell_type": "code",
   "execution_count": 73,
   "metadata": {},
   "outputs": [],
   "source": [
    "age_def_contigence = pd.crosstab(df1['default'], df1['age'], margins=False)"
   ]
  },
  {
   "cell_type": "code",
   "execution_count": 74,
   "metadata": {},
   "outputs": [
    {
     "data": {
      "text/plain": [
       "8.398778505133663e-09"
      ]
     },
     "execution_count": 74,
     "metadata": {},
     "output_type": "execute_result"
    }
   ],
   "source": [
    "# Use chi-squared test to test if age affects default likelihood.\n",
    "\n",
    "from scipy.stats import chisquare\n",
    "from scipy.stats import chi2_contingency\n",
    "stat, p, dof, expected = chi2_contingency(age_def_contigence)\n",
    "\n",
    "p"
   ]
  },
  {
   "cell_type": "markdown",
   "metadata": {},
   "source": [
    "The p value is smaller than significance level  α , we will reject the null hypothesis and accept the alternative hypothesis, which is age has impact on default probability."
   ]
  },
  {
   "cell_type": "markdown",
   "metadata": {},
   "source": [
    "# Correlation between Gender and payment default"
   ]
  },
  {
   "cell_type": "markdown",
   "metadata": {},
   "source": [
    "Null hypothesis: gender has no impact on default probability.\n",
    "\n",
    "Alternative hypothesis: gender has impact on default probability.\n",
    "\n",
    "Set significance level  α  to 0.05"
   ]
  },
  {
   "cell_type": "code",
   "execution_count": 75,
   "metadata": {},
   "outputs": [],
   "source": [
    "gender_def_contigence = pd.crosstab(df1['default'], df1['gender'], margins=False)"
   ]
  },
  {
   "cell_type": "code",
   "execution_count": 76,
   "metadata": {},
   "outputs": [
    {
     "data": {
      "text/plain": [
       "4.944678999412026e-12"
      ]
     },
     "execution_count": 76,
     "metadata": {},
     "output_type": "execute_result"
    }
   ],
   "source": [
    "from scipy.stats import chisquare\n",
    "from scipy.stats import chi2_contingency\n",
    "stat, p, dof, expected = chi2_contingency(gender_def_contigence)\n",
    "\n",
    "p"
   ]
  },
  {
   "cell_type": "markdown",
   "metadata": {},
   "source": [
    "The p value is smaller than significance level α , we will reject the null hypothesis and accept the alternative hypothesis, which is gender has impact on default probability."
   ]
  },
  {
   "cell_type": "markdown",
   "metadata": {},
   "source": [
    "# Correlation between Marital Staus and payment default"
   ]
  },
  {
   "cell_type": "markdown",
   "metadata": {},
   "source": [
    "Null hypothesis: Marital status has no impact on default probability.\n",
    "\n",
    "Alternative hypothesis: Marital status has impact on default probability.\n",
    "\n",
    "Set significance level α to 0.05."
   ]
  },
  {
   "cell_type": "code",
   "execution_count": 77,
   "metadata": {},
   "outputs": [],
   "source": [
    "marital_def_contigence = pd.crosstab(df1['default'], df1['marital_status'], margins=False)"
   ]
  },
  {
   "cell_type": "code",
   "execution_count": 78,
   "metadata": {},
   "outputs": [
    {
     "data": {
      "text/plain": [
       "1.5126419390778658e-07"
      ]
     },
     "execution_count": 78,
     "metadata": {},
     "output_type": "execute_result"
    }
   ],
   "source": [
    "from scipy.stats import chisquare\n",
    "from scipy.stats import chi2_contingency\n",
    "stat, p, dof, expected = chi2_contingency(marital_def_contigence)\n",
    "\n",
    "p"
   ]
  },
  {
   "cell_type": "markdown",
   "metadata": {},
   "source": [
    "The p value is smaller than significance level α , we will reject the null hypothesis and accept the alternative hypothesis, which is marital status has impact on default probability."
   ]
  },
  {
   "cell_type": "markdown",
   "metadata": {},
   "source": [
    "# Correlation between Credit limit and the default payment"
   ]
  },
  {
   "cell_type": "code",
   "execution_count": 79,
   "metadata": {},
   "outputs": [
    {
     "data": {
      "image/png": "[encoded data removed]",
      "text/plain": [
       "<Figure size 432x288 with 1 Axes>"
      ]
     },
     "metadata": {
      "needs_background": "light"
     },
     "output_type": "display_data"
    }
   ],
   "source": [
    "def0 = df1.loc[df1['default']=='no','credit_limit']\n",
    "def1 = df1.loc[df1['default']=='yes','credit_limit']\n",
    "\n",
    "fig, ax = plt.subplots()\n",
    "ax.boxplot([def0, def1],showfliers=False)\n",
    "\n",
    "ax.set_xticklabels(['No_default',\"Default\"],fontweight ='bold')\n",
    "ax.set_ylabel('Credit limit',fontweight ='bold')\n",
    "ax.set_title('Credit limit & payment default',fontweight ='bold')\n",
    "\n",
    "plt.show()"
   ]
  },
  {
   "cell_type": "code",
   "execution_count": 80,
   "metadata": {},
   "outputs": [
    {
     "data": {
      "text/plain": [
       "<matplotlib.axes._subplots.AxesSubplot at 0x208c2481640>"
      ]
     },
     "execution_count": 80,
     "metadata": {},
     "output_type": "execute_result"
    },
    {
     "data": {
      "image/png": "[encoded data removed]",
      "text/plain": [
       "<Figure size 432x288 with 1 Axes>"
      ]
     },
     "metadata": {
      "needs_background": "light"
     },
     "output_type": "display_data"
    }
   ],
   "source": [
    "sns.barplot(x=\"default\", y=\"credit_limit\", data=df1)"
   ]
  },
  {
   "cell_type": "code",
   "execution_count": 133,
   "metadata": {},
   "outputs": [
    {
     "data": {
      "text/plain": [
       "Text(0.5, 0, 'Default')"
      ]
     },
     "execution_count": 133,
     "metadata": {},
     "output_type": "execute_result"
    },
    {
     "data": {
      "image/png": "[encoded data removed]",
      "text/plain": [
       "<Figure size 432x288 with 1 Axes>"
      ]
     },
     "metadata": {
      "needs_background": "light"
     },
     "output_type": "display_data"
    }
   ],
   "source": [
    "sns.countplot(df1['default'])\n",
    "plt.xlabel('Default')"
   ]
  },
  {
   "cell_type": "markdown",
   "metadata": {},
   "source": [
    "Customers with high credit limits tend to have higher 'no-default'rate."
   ]
  },
  {
   "cell_type": "code",
   "execution_count": 81,
   "metadata": {},
   "outputs": [
    {
     "data": {
      "image/png": "[encoded data removed]",
      "text/plain": [
       "<Figure size 1080x2160 with 16 Axes>"
      ]
     },
     "metadata": {
      "needs_background": "light"
     },
     "output_type": "display_data"
    }
   ],
   "source": [
    "def_no=df1[df1['default']=='no']\n",
    "def_yes=df1[df1['default']=='yes']\n",
    "plt.figure(figsize=(15,30))\n",
    "num_cols2=num_cols1.drop('age',axis=1)\n",
    "for i,col in enumerate(num_cols2,1):\n",
    "    plt.subplot(8,2,i)\n",
    "    sns.distplot(def_no[col],hist=False,color='b')\n",
    "    sns.distplot(def_yes[col],hist=False,color='r')\n",
    "    plt.xlabel(col)\n",
    "plt.show()"
   ]
  },
  {
   "cell_type": "code",
   "execution_count": 82,
   "metadata": {},
   "outputs": [
    {
     "data": {
      "text/plain": [
       "<matplotlib.axes._subplots.AxesSubplot at 0x208c35c0670>"
      ]
     },
     "execution_count": 82,
     "metadata": {},
     "output_type": "execute_result"
    },
    {
     "data": {
      "image/png": "[encoded data removed]",
      "text/plain": [
       "<Figure size 1080x720 with 2 Axes>"
      ]
     },
     "metadata": {
      "needs_background": "light"
     },
     "output_type": "display_data"
    }
   ],
   "source": [
    "# Correlation matrix through heatmap\n",
    "plt.figure(figsize=(15,10))\n",
    "# num_def=pd.concat([num_cols1,df1['default']],axis=1)\n",
    "sns.heatmap(num_cols1.corr(),annot=True,fmt=\".1f\")\n"
   ]
  },
  {
   "cell_type": "markdown",
   "metadata": {},
   "source": [
    "# Outliers proportion in dataset"
   ]
  },
  {
   "cell_type": "code",
   "execution_count": 83,
   "metadata": {},
   "outputs": [
    {
     "data": {
      "text/plain": [
       "(30000, 26)"
      ]
     },
     "execution_count": 83,
     "metadata": {},
     "output_type": "execute_result"
    }
   ],
   "source": [
    "df1.shape"
   ]
  },
  {
   "cell_type": "code",
   "execution_count": 84,
   "metadata": {},
   "outputs": [],
   "source": [
    "Q1= df.quantile(0.25)\n",
    "Q3= df.quantile(0.75)\n",
    "IQR= Q3-Q1"
   ]
  },
  {
   "cell_type": "code",
   "execution_count": 85,
   "metadata": {},
   "outputs": [
    {
     "data": {
      "text/plain": [
       "(10452, 26)"
      ]
     },
     "execution_count": 85,
     "metadata": {},
     "output_type": "execute_result"
    }
   ],
   "source": [
    "# Outliers in the dataset\n",
    "df3 = df[((df<(Q1-1.5*IQR)) | (df>(Q3+1.5*IQR))).any(axis=1)]\n",
    "df3.shape"
   ]
  },
  {
   "cell_type": "raw",
   "metadata": {},
   "source": [
    "Outliers proportion is huge so not removing them. Also as the data is valid , these are extreme values. Hence taking 2 approaches\n",
    "from here-\n",
    "Approach I- Without treating outliers.\n",
    "Approach II- With outliers treatment"
   ]
  },
  {
   "cell_type": "code",
   "execution_count": 86,
   "metadata": {},
   "outputs": [],
   "source": [
    "#sns.pairplot(df,hue='default',palette='husl')\n",
    "#plt.show()"
   ]
  },
  {
   "cell_type": "markdown",
   "metadata": {},
   "source": [
    "As the data is non linear and the data is overlapping, Logistic Regression is ruled out."
   ]
  },
  {
   "cell_type": "markdown",
   "metadata": {},
   "source": [
    "# Approach 1: Without treating outliers"
   ]
  },
  {
   "cell_type": "code",
   "execution_count": 87,
   "metadata": {},
   "outputs": [
    {
     "data": {
      "text/html": [
       "<div>\n",
       "<style scoped>\n",
       "    .dataframe tbody tr th:only-of-type {\n",
       "        vertical-align: middle;\n",
       "    }\n",
       "\n",
       "    .dataframe tbody tr th {\n",
       "        vertical-align: top;\n",
       "    }\n",
       "\n",
       "    .dataframe thead th {\n",
       "        text-align: right;\n",
       "    }\n",
       "</style>\n",
       "<table border=\"1\" class=\"dataframe\">\n",
       "  <thead>\n",
       "    <tr style=\"text-align: right;\">\n",
       "      <th></th>\n",
       "      <th>credit_limit</th>\n",
       "      <th>gender</th>\n",
       "      <th>education</th>\n",
       "      <th>marital_status</th>\n",
       "      <th>age</th>\n",
       "      <th>timeliness_1</th>\n",
       "      <th>timeliness_2</th>\n",
       "      <th>timeliness_3</th>\n",
       "      <th>timeliness_4</th>\n",
       "      <th>timeliness_5</th>\n",
       "      <th>...</th>\n",
       "      <th>balance_6</th>\n",
       "      <th>payment_1</th>\n",
       "      <th>payment_2</th>\n",
       "      <th>payment_3</th>\n",
       "      <th>payment_4</th>\n",
       "      <th>payment_5</th>\n",
       "      <th>payment_6</th>\n",
       "      <th>avg_balance</th>\n",
       "      <th>avg_payment</th>\n",
       "      <th>default</th>\n",
       "    </tr>\n",
       "  </thead>\n",
       "  <tbody>\n",
       "    <tr>\n",
       "      <th>0</th>\n",
       "      <td>20000</td>\n",
       "      <td>female</td>\n",
       "      <td>3</td>\n",
       "      <td>married</td>\n",
       "      <td>20-30</td>\n",
       "      <td>2</td>\n",
       "      <td>2</td>\n",
       "      <td>-1</td>\n",
       "      <td>-1</td>\n",
       "      <td>-2</td>\n",
       "      <td>...</td>\n",
       "      <td>0</td>\n",
       "      <td>0</td>\n",
       "      <td>689</td>\n",
       "      <td>0</td>\n",
       "      <td>0</td>\n",
       "      <td>0</td>\n",
       "      <td>0</td>\n",
       "      <td>1284.000000</td>\n",
       "      <td>114.833333</td>\n",
       "      <td>yes</td>\n",
       "    </tr>\n",
       "    <tr>\n",
       "      <th>1</th>\n",
       "      <td>120000</td>\n",
       "      <td>female</td>\n",
       "      <td>3</td>\n",
       "      <td>single</td>\n",
       "      <td>20-30</td>\n",
       "      <td>-1</td>\n",
       "      <td>2</td>\n",
       "      <td>0</td>\n",
       "      <td>0</td>\n",
       "      <td>0</td>\n",
       "      <td>...</td>\n",
       "      <td>3261</td>\n",
       "      <td>0</td>\n",
       "      <td>1000</td>\n",
       "      <td>1000</td>\n",
       "      <td>1000</td>\n",
       "      <td>0</td>\n",
       "      <td>2000</td>\n",
       "      <td>2846.166667</td>\n",
       "      <td>833.333333</td>\n",
       "      <td>yes</td>\n",
       "    </tr>\n",
       "    <tr>\n",
       "      <th>2</th>\n",
       "      <td>90000</td>\n",
       "      <td>female</td>\n",
       "      <td>3</td>\n",
       "      <td>single</td>\n",
       "      <td>30-40</td>\n",
       "      <td>0</td>\n",
       "      <td>0</td>\n",
       "      <td>0</td>\n",
       "      <td>0</td>\n",
       "      <td>0</td>\n",
       "      <td>...</td>\n",
       "      <td>15549</td>\n",
       "      <td>1518</td>\n",
       "      <td>1500</td>\n",
       "      <td>1000</td>\n",
       "      <td>1000</td>\n",
       "      <td>1000</td>\n",
       "      <td>5000</td>\n",
       "      <td>16942.166667</td>\n",
       "      <td>1836.333333</td>\n",
       "      <td>no</td>\n",
       "    </tr>\n",
       "    <tr>\n",
       "      <th>3</th>\n",
       "      <td>50000</td>\n",
       "      <td>female</td>\n",
       "      <td>3</td>\n",
       "      <td>married</td>\n",
       "      <td>30-40</td>\n",
       "      <td>0</td>\n",
       "      <td>0</td>\n",
       "      <td>0</td>\n",
       "      <td>0</td>\n",
       "      <td>0</td>\n",
       "      <td>...</td>\n",
       "      <td>29547</td>\n",
       "      <td>2000</td>\n",
       "      <td>2019</td>\n",
       "      <td>1200</td>\n",
       "      <td>1100</td>\n",
       "      <td>1069</td>\n",
       "      <td>1000</td>\n",
       "      <td>38555.666667</td>\n",
       "      <td>1398.000000</td>\n",
       "      <td>no</td>\n",
       "    </tr>\n",
       "    <tr>\n",
       "      <th>4</th>\n",
       "      <td>50000</td>\n",
       "      <td>male</td>\n",
       "      <td>3</td>\n",
       "      <td>married</td>\n",
       "      <td>50-60</td>\n",
       "      <td>-1</td>\n",
       "      <td>0</td>\n",
       "      <td>-1</td>\n",
       "      <td>0</td>\n",
       "      <td>0</td>\n",
       "      <td>...</td>\n",
       "      <td>19131</td>\n",
       "      <td>2000</td>\n",
       "      <td>36681</td>\n",
       "      <td>10000</td>\n",
       "      <td>9000</td>\n",
       "      <td>689</td>\n",
       "      <td>679</td>\n",
       "      <td>18223.166667</td>\n",
       "      <td>9841.500000</td>\n",
       "      <td>no</td>\n",
       "    </tr>\n",
       "  </tbody>\n",
       "</table>\n",
       "<p>5 rows × 26 columns</p>\n",
       "</div>"
      ],
      "text/plain": [
       "   credit_limit  gender  education marital_status    age timeliness_1  \\\n",
       "0         20000  female          3        married  20-30            2   \n",
       "1        120000  female          3         single  20-30           -1   \n",
       "2         90000  female          3         single  30-40            0   \n",
       "3         50000  female          3        married  30-40            0   \n",
       "4         50000    male          3        married  50-60           -1   \n",
       "\n",
       "  timeliness_2 timeliness_3 timeliness_4 timeliness_5  ... balance_6  \\\n",
       "0            2           -1           -1           -2  ...         0   \n",
       "1            2            0            0            0  ...      3261   \n",
       "2            0            0            0            0  ...     15549   \n",
       "3            0            0            0            0  ...     29547   \n",
       "4            0           -1            0            0  ...     19131   \n",
       "\n",
       "   payment_1  payment_2  payment_3  payment_4  payment_5  payment_6  \\\n",
       "0          0        689          0          0          0          0   \n",
       "1          0       1000       1000       1000          0       2000   \n",
       "2       1518       1500       1000       1000       1000       5000   \n",
       "3       2000       2019       1200       1100       1069       1000   \n",
       "4       2000      36681      10000       9000        689        679   \n",
       "\n",
       "    avg_balance  avg_payment  default  \n",
       "0   1284.000000   114.833333      yes  \n",
       "1   2846.166667   833.333333      yes  \n",
       "2  16942.166667  1836.333333       no  \n",
       "3  38555.666667  1398.000000       no  \n",
       "4  18223.166667  9841.500000       no  \n",
       "\n",
       "[5 rows x 26 columns]"
      ]
     },
     "execution_count": 87,
     "metadata": {},
     "output_type": "execute_result"
    }
   ],
   "source": [
    "# Creating new copy of the dataset\n",
    "df4 = df1.copy(deep=True)\n",
    "df4.head()"
   ]
  },
  {
   "cell_type": "code",
   "execution_count": 88,
   "metadata": {},
   "outputs": [],
   "source": [
    "df1['timeliness_1']=df1['timeliness_1'].astype(int) "
   ]
  },
  {
   "cell_type": "code",
   "execution_count": 89,
   "metadata": {},
   "outputs": [],
   "source": [
    "df1['timeliness_1']=df1['timeliness_1'].astype(int) \n",
    "df1['timeliness_2']=df1['timeliness_2'].astype(int) \n",
    "df1['timeliness_3']=df1['timeliness_3'].astype(int)\n",
    "df1['timeliness_4']=df1['timeliness_4'].astype(int)\n",
    "df1['timeliness_5']=df1['timeliness_5'].astype(int)\n",
    "df1['timeliness_6']=df1['timeliness_6'].astype(int)"
   ]
  },
  {
   "cell_type": "code",
   "execution_count": 90,
   "metadata": {},
   "outputs": [
    {
     "data": {
      "text/html": [
       "<div>\n",
       "<style scoped>\n",
       "    .dataframe tbody tr th:only-of-type {\n",
       "        vertical-align: middle;\n",
       "    }\n",
       "\n",
       "    .dataframe tbody tr th {\n",
       "        vertical-align: top;\n",
       "    }\n",
       "\n",
       "    .dataframe thead th {\n",
       "        text-align: right;\n",
       "    }\n",
       "</style>\n",
       "<table border=\"1\" class=\"dataframe\">\n",
       "  <thead>\n",
       "    <tr style=\"text-align: right;\">\n",
       "      <th></th>\n",
       "      <th>credit_limit</th>\n",
       "      <th>gender</th>\n",
       "      <th>education</th>\n",
       "      <th>marital_status</th>\n",
       "      <th>age</th>\n",
       "      <th>timeliness_1</th>\n",
       "      <th>timeliness_2</th>\n",
       "      <th>timeliness_3</th>\n",
       "      <th>timeliness_4</th>\n",
       "      <th>timeliness_5</th>\n",
       "      <th>...</th>\n",
       "      <th>balance_6</th>\n",
       "      <th>payment_1</th>\n",
       "      <th>payment_2</th>\n",
       "      <th>payment_3</th>\n",
       "      <th>payment_4</th>\n",
       "      <th>payment_5</th>\n",
       "      <th>payment_6</th>\n",
       "      <th>avg_balance</th>\n",
       "      <th>avg_payment</th>\n",
       "      <th>default</th>\n",
       "    </tr>\n",
       "  </thead>\n",
       "  <tbody>\n",
       "    <tr>\n",
       "      <th>0</th>\n",
       "      <td>20000</td>\n",
       "      <td>female</td>\n",
       "      <td>3</td>\n",
       "      <td>married</td>\n",
       "      <td>20-30</td>\n",
       "      <td>2</td>\n",
       "      <td>2</td>\n",
       "      <td>-1</td>\n",
       "      <td>-1</td>\n",
       "      <td>-2</td>\n",
       "      <td>...</td>\n",
       "      <td>0</td>\n",
       "      <td>0</td>\n",
       "      <td>689</td>\n",
       "      <td>0</td>\n",
       "      <td>0</td>\n",
       "      <td>0</td>\n",
       "      <td>0</td>\n",
       "      <td>1284.000000</td>\n",
       "      <td>114.833333</td>\n",
       "      <td>1</td>\n",
       "    </tr>\n",
       "    <tr>\n",
       "      <th>1</th>\n",
       "      <td>120000</td>\n",
       "      <td>female</td>\n",
       "      <td>3</td>\n",
       "      <td>single</td>\n",
       "      <td>20-30</td>\n",
       "      <td>-1</td>\n",
       "      <td>2</td>\n",
       "      <td>0</td>\n",
       "      <td>0</td>\n",
       "      <td>0</td>\n",
       "      <td>...</td>\n",
       "      <td>3261</td>\n",
       "      <td>0</td>\n",
       "      <td>1000</td>\n",
       "      <td>1000</td>\n",
       "      <td>1000</td>\n",
       "      <td>0</td>\n",
       "      <td>2000</td>\n",
       "      <td>2846.166667</td>\n",
       "      <td>833.333333</td>\n",
       "      <td>1</td>\n",
       "    </tr>\n",
       "    <tr>\n",
       "      <th>2</th>\n",
       "      <td>90000</td>\n",
       "      <td>female</td>\n",
       "      <td>3</td>\n",
       "      <td>single</td>\n",
       "      <td>30-40</td>\n",
       "      <td>0</td>\n",
       "      <td>0</td>\n",
       "      <td>0</td>\n",
       "      <td>0</td>\n",
       "      <td>0</td>\n",
       "      <td>...</td>\n",
       "      <td>15549</td>\n",
       "      <td>1518</td>\n",
       "      <td>1500</td>\n",
       "      <td>1000</td>\n",
       "      <td>1000</td>\n",
       "      <td>1000</td>\n",
       "      <td>5000</td>\n",
       "      <td>16942.166667</td>\n",
       "      <td>1836.333333</td>\n",
       "      <td>0</td>\n",
       "    </tr>\n",
       "    <tr>\n",
       "      <th>3</th>\n",
       "      <td>50000</td>\n",
       "      <td>female</td>\n",
       "      <td>3</td>\n",
       "      <td>married</td>\n",
       "      <td>30-40</td>\n",
       "      <td>0</td>\n",
       "      <td>0</td>\n",
       "      <td>0</td>\n",
       "      <td>0</td>\n",
       "      <td>0</td>\n",
       "      <td>...</td>\n",
       "      <td>29547</td>\n",
       "      <td>2000</td>\n",
       "      <td>2019</td>\n",
       "      <td>1200</td>\n",
       "      <td>1100</td>\n",
       "      <td>1069</td>\n",
       "      <td>1000</td>\n",
       "      <td>38555.666667</td>\n",
       "      <td>1398.000000</td>\n",
       "      <td>0</td>\n",
       "    </tr>\n",
       "    <tr>\n",
       "      <th>4</th>\n",
       "      <td>50000</td>\n",
       "      <td>male</td>\n",
       "      <td>3</td>\n",
       "      <td>married</td>\n",
       "      <td>50-60</td>\n",
       "      <td>-1</td>\n",
       "      <td>0</td>\n",
       "      <td>-1</td>\n",
       "      <td>0</td>\n",
       "      <td>0</td>\n",
       "      <td>...</td>\n",
       "      <td>19131</td>\n",
       "      <td>2000</td>\n",
       "      <td>36681</td>\n",
       "      <td>10000</td>\n",
       "      <td>9000</td>\n",
       "      <td>689</td>\n",
       "      <td>679</td>\n",
       "      <td>18223.166667</td>\n",
       "      <td>9841.500000</td>\n",
       "      <td>0</td>\n",
       "    </tr>\n",
       "  </tbody>\n",
       "</table>\n",
       "<p>5 rows × 26 columns</p>\n",
       "</div>"
      ],
      "text/plain": [
       "   credit_limit  gender  education marital_status    age  timeliness_1  \\\n",
       "0         20000  female          3        married  20-30             2   \n",
       "1        120000  female          3         single  20-30            -1   \n",
       "2         90000  female          3         single  30-40             0   \n",
       "3         50000  female          3        married  30-40             0   \n",
       "4         50000    male          3        married  50-60            -1   \n",
       "\n",
       "   timeliness_2  timeliness_3  timeliness_4  timeliness_5  ...  balance_6  \\\n",
       "0             2            -1            -1            -2  ...          0   \n",
       "1             2             0             0             0  ...       3261   \n",
       "2             0             0             0             0  ...      15549   \n",
       "3             0             0             0             0  ...      29547   \n",
       "4             0            -1             0             0  ...      19131   \n",
       "\n",
       "   payment_1  payment_2  payment_3  payment_4  payment_5  payment_6  \\\n",
       "0          0        689          0          0          0          0   \n",
       "1          0       1000       1000       1000          0       2000   \n",
       "2       1518       1500       1000       1000       1000       5000   \n",
       "3       2000       2019       1200       1100       1069       1000   \n",
       "4       2000      36681      10000       9000        689        679   \n",
       "\n",
       "    avg_balance  avg_payment  default  \n",
       "0   1284.000000   114.833333        1  \n",
       "1   2846.166667   833.333333        1  \n",
       "2  16942.166667  1836.333333        0  \n",
       "3  38555.666667  1398.000000        0  \n",
       "4  18223.166667  9841.500000        0  \n",
       "\n",
       "[5 rows x 26 columns]"
      ]
     },
     "execution_count": 90,
     "metadata": {},
     "output_type": "execute_result"
    }
   ],
   "source": [
    "# Converting target variable into dummy\n",
    "df1['default'] = pd.get_dummies(df1['default'],drop_first=True)\n",
    "df1.head()"
   ]
  },
  {
   "cell_type": "code",
   "execution_count": 91,
   "metadata": {},
   "outputs": [],
   "source": [
    "from sklearn.preprocessing import LabelEncoder\n",
    "labelencode = LabelEncoder()"
   ]
  },
  {
   "cell_type": "code",
   "execution_count": 92,
   "metadata": {},
   "outputs": [],
   "source": [
    "df1['marital_status']= labelencode.fit_transform(df1['marital_status'])\n",
    "df1['gender']=labelencode.fit_transform(df1['gender'])"
   ]
  },
  {
   "cell_type": "code",
   "execution_count": 93,
   "metadata": {},
   "outputs": [
    {
     "data": {
      "text/plain": [
       "1    11238\n",
       "0     9618\n",
       "2     6464\n",
       "3     2341\n",
       "4      314\n",
       "5       25\n",
       "Name: age, dtype: int64"
      ]
     },
     "execution_count": 93,
     "metadata": {},
     "output_type": "execute_result"
    }
   ],
   "source": [
    "df1['age'] = labelencode.fit_transform(df1['age'])\n",
    "df1['age'].value_counts()"
   ]
  },
  {
   "cell_type": "code",
   "execution_count": 94,
   "metadata": {},
   "outputs": [
    {
     "name": "stdout",
     "output_type": "stream",
     "text": [
      "<class 'pandas.core.frame.DataFrame'>\n",
      "RangeIndex: 30000 entries, 0 to 29999\n",
      "Data columns (total 26 columns):\n",
      " #   Column          Non-Null Count  Dtype  \n",
      "---  ------          --------------  -----  \n",
      " 0   credit_limit    30000 non-null  int64  \n",
      " 1   gender          30000 non-null  int32  \n",
      " 2   education       30000 non-null  int32  \n",
      " 3   marital_status  30000 non-null  int32  \n",
      " 4   age             30000 non-null  int32  \n",
      " 5   timeliness_1    30000 non-null  int32  \n",
      " 6   timeliness_2    30000 non-null  int32  \n",
      " 7   timeliness_3    30000 non-null  int32  \n",
      " 8   timeliness_4    30000 non-null  int32  \n",
      " 9   timeliness_5    30000 non-null  int32  \n",
      " 10  timeliness_6    30000 non-null  int32  \n",
      " 11  balance_1       30000 non-null  int64  \n",
      " 12  balance_2       30000 non-null  int64  \n",
      " 13  balance_3       30000 non-null  int64  \n",
      " 14  balance_4       30000 non-null  int64  \n",
      " 15  balance_5       30000 non-null  int64  \n",
      " 16  balance_6       30000 non-null  int64  \n",
      " 17  payment_1       30000 non-null  int64  \n",
      " 18  payment_2       30000 non-null  int64  \n",
      " 19  payment_3       30000 non-null  int64  \n",
      " 20  payment_4       30000 non-null  int64  \n",
      " 21  payment_5       30000 non-null  int64  \n",
      " 22  payment_6       30000 non-null  int64  \n",
      " 23  avg_balance     30000 non-null  float64\n",
      " 24  avg_payment     30000 non-null  float64\n",
      " 25  default         30000 non-null  uint8  \n",
      "dtypes: float64(2), int32(10), int64(13), uint8(1)\n",
      "memory usage: 4.6 MB\n"
     ]
    }
   ],
   "source": [
    "df1.info()"
   ]
  },
  {
   "cell_type": "code",
   "execution_count": 95,
   "metadata": {},
   "outputs": [
    {
     "name": "stderr",
     "output_type": "stream",
     "text": [
      "D:\\Python\\lib\\site-packages\\pandas\\core\\indexing.py:671: SettingWithCopyWarning: \n",
      "A value is trying to be set on a copy of a slice from a DataFrame\n",
      "\n",
      "See the caveats in the documentation: https://pandas.pydata.org/pandas-docs/stable/user_guide/indexing.html#returning-a-view-versus-a-copy\n",
      "  self._setitem_with_indexer(indexer, value)\n",
      "<ipython-input-95-40e63eab3ba1>:3: SettingWithCopyWarning: \n",
      "A value is trying to be set on a copy of a slice from a DataFrame\n",
      "\n",
      "See the caveats in the documentation: https://pandas.pydata.org/pandas-docs/stable/user_guide/indexing.html#returning-a-view-versus-a-copy\n",
      "  x.loc[(x.payment_1 != 0),'payment_1']= 1\n",
      "<ipython-input-95-40e63eab3ba1>:4: SettingWithCopyWarning: \n",
      "A value is trying to be set on a copy of a slice from a DataFrame\n",
      "\n",
      "See the caveats in the documentation: https://pandas.pydata.org/pandas-docs/stable/user_guide/indexing.html#returning-a-view-versus-a-copy\n",
      "  x.loc[(x.payment_2 != 0),'payment_2']= 1\n",
      "<ipython-input-95-40e63eab3ba1>:5: SettingWithCopyWarning: \n",
      "A value is trying to be set on a copy of a slice from a DataFrame\n",
      "\n",
      "See the caveats in the documentation: https://pandas.pydata.org/pandas-docs/stable/user_guide/indexing.html#returning-a-view-versus-a-copy\n",
      "  x.loc[(x.payment_3 != 0),'payment_3']= 1\n",
      "<ipython-input-95-40e63eab3ba1>:6: SettingWithCopyWarning: \n",
      "A value is trying to be set on a copy of a slice from a DataFrame\n",
      "\n",
      "See the caveats in the documentation: https://pandas.pydata.org/pandas-docs/stable/user_guide/indexing.html#returning-a-view-versus-a-copy\n",
      "  x.loc[(x.payment_4 != 0),'payment_4']= 1\n",
      "<ipython-input-95-40e63eab3ba1>:7: SettingWithCopyWarning: \n",
      "A value is trying to be set on a copy of a slice from a DataFrame\n",
      "\n",
      "See the caveats in the documentation: https://pandas.pydata.org/pandas-docs/stable/user_guide/indexing.html#returning-a-view-versus-a-copy\n",
      "  x.loc[(x.payment_5 != 0),'payment_5']= 1\n",
      "<ipython-input-95-40e63eab3ba1>:8: SettingWithCopyWarning: \n",
      "A value is trying to be set on a copy of a slice from a DataFrame\n",
      "\n",
      "See the caveats in the documentation: https://pandas.pydata.org/pandas-docs/stable/user_guide/indexing.html#returning-a-view-versus-a-copy\n",
      "  x.loc[(x.payment_6 != 0),'payment_6']= 1\n"
     ]
    }
   ],
   "source": [
    "x=df[['payment_1','payment_2','payment_3','payment_4','payment_5','payment_6']]\n",
    "\n",
    "x.loc[(x.payment_1 != 0),'payment_1']= 1\n",
    "x.loc[(x.payment_2 != 0),'payment_2']= 1\n",
    "x.loc[(x.payment_3 != 0),'payment_3']= 1\n",
    "x.loc[(x.payment_4 != 0),'payment_4']= 1\n",
    "x.loc[(x.payment_5 != 0),'payment_5']= 1\n",
    "x.loc[(x.payment_6 != 0),'payment_6']= 1"
   ]
  },
  {
   "cell_type": "code",
   "execution_count": 96,
   "metadata": {},
   "outputs": [
    {
     "data": {
      "text/plain": [
       "<matplotlib.axes._subplots.AxesSubplot at 0x208c35dec40>"
      ]
     },
     "execution_count": 96,
     "metadata": {},
     "output_type": "execute_result"
    },
    {
     "data": {
      "image/png": "[encoded data removed]",
      "text/plain": [
       "<Figure size 432x288 with 1 Axes>"
      ]
     },
     "metadata": {
      "needs_background": "light"
     },
     "output_type": "display_data"
    }
   ],
   "source": [
    "df1['Installments_Paid'] = x['payment_1']+x['payment_2']+x['payment_3']+x['payment_4']+x['payment_5']+x['payment_6']\n",
    "pd.crosstab(index=df1['default'], columns=df1['Installments_Paid']).plot(kind='bar')"
   ]
  },
  {
   "cell_type": "code",
   "execution_count": 97,
   "metadata": {},
   "outputs": [
    {
     "data": {
      "text/html": [
       "<div>\n",
       "<style scoped>\n",
       "    .dataframe tbody tr th:only-of-type {\n",
       "        vertical-align: middle;\n",
       "    }\n",
       "\n",
       "    .dataframe tbody tr th {\n",
       "        vertical-align: top;\n",
       "    }\n",
       "\n",
       "    .dataframe thead th {\n",
       "        text-align: right;\n",
       "    }\n",
       "</style>\n",
       "<table border=\"1\" class=\"dataframe\">\n",
       "  <thead>\n",
       "    <tr style=\"text-align: right;\">\n",
       "      <th></th>\n",
       "      <th>credit_limit</th>\n",
       "      <th>gender</th>\n",
       "      <th>education</th>\n",
       "      <th>marital_status</th>\n",
       "      <th>age</th>\n",
       "      <th>timeliness_1</th>\n",
       "      <th>timeliness_2</th>\n",
       "      <th>timeliness_3</th>\n",
       "      <th>timeliness_4</th>\n",
       "      <th>timeliness_5</th>\n",
       "      <th>...</th>\n",
       "      <th>payment_1</th>\n",
       "      <th>payment_2</th>\n",
       "      <th>payment_3</th>\n",
       "      <th>payment_4</th>\n",
       "      <th>payment_5</th>\n",
       "      <th>payment_6</th>\n",
       "      <th>avg_balance</th>\n",
       "      <th>avg_payment</th>\n",
       "      <th>default</th>\n",
       "      <th>Installments_Paid</th>\n",
       "    </tr>\n",
       "  </thead>\n",
       "  <tbody>\n",
       "    <tr>\n",
       "      <th>0</th>\n",
       "      <td>20000</td>\n",
       "      <td>0</td>\n",
       "      <td>3</td>\n",
       "      <td>0</td>\n",
       "      <td>0</td>\n",
       "      <td>2</td>\n",
       "      <td>2</td>\n",
       "      <td>-1</td>\n",
       "      <td>-1</td>\n",
       "      <td>-2</td>\n",
       "      <td>...</td>\n",
       "      <td>0</td>\n",
       "      <td>689</td>\n",
       "      <td>0</td>\n",
       "      <td>0</td>\n",
       "      <td>0</td>\n",
       "      <td>0</td>\n",
       "      <td>1284.000000</td>\n",
       "      <td>114.833333</td>\n",
       "      <td>1</td>\n",
       "      <td>1</td>\n",
       "    </tr>\n",
       "    <tr>\n",
       "      <th>1</th>\n",
       "      <td>120000</td>\n",
       "      <td>0</td>\n",
       "      <td>3</td>\n",
       "      <td>2</td>\n",
       "      <td>0</td>\n",
       "      <td>-1</td>\n",
       "      <td>2</td>\n",
       "      <td>0</td>\n",
       "      <td>0</td>\n",
       "      <td>0</td>\n",
       "      <td>...</td>\n",
       "      <td>0</td>\n",
       "      <td>1000</td>\n",
       "      <td>1000</td>\n",
       "      <td>1000</td>\n",
       "      <td>0</td>\n",
       "      <td>2000</td>\n",
       "      <td>2846.166667</td>\n",
       "      <td>833.333333</td>\n",
       "      <td>1</td>\n",
       "      <td>4</td>\n",
       "    </tr>\n",
       "    <tr>\n",
       "      <th>2</th>\n",
       "      <td>90000</td>\n",
       "      <td>0</td>\n",
       "      <td>3</td>\n",
       "      <td>2</td>\n",
       "      <td>1</td>\n",
       "      <td>0</td>\n",
       "      <td>0</td>\n",
       "      <td>0</td>\n",
       "      <td>0</td>\n",
       "      <td>0</td>\n",
       "      <td>...</td>\n",
       "      <td>1518</td>\n",
       "      <td>1500</td>\n",
       "      <td>1000</td>\n",
       "      <td>1000</td>\n",
       "      <td>1000</td>\n",
       "      <td>5000</td>\n",
       "      <td>16942.166667</td>\n",
       "      <td>1836.333333</td>\n",
       "      <td>0</td>\n",
       "      <td>6</td>\n",
       "    </tr>\n",
       "    <tr>\n",
       "      <th>3</th>\n",
       "      <td>50000</td>\n",
       "      <td>0</td>\n",
       "      <td>3</td>\n",
       "      <td>0</td>\n",
       "      <td>1</td>\n",
       "      <td>0</td>\n",
       "      <td>0</td>\n",
       "      <td>0</td>\n",
       "      <td>0</td>\n",
       "      <td>0</td>\n",
       "      <td>...</td>\n",
       "      <td>2000</td>\n",
       "      <td>2019</td>\n",
       "      <td>1200</td>\n",
       "      <td>1100</td>\n",
       "      <td>1069</td>\n",
       "      <td>1000</td>\n",
       "      <td>38555.666667</td>\n",
       "      <td>1398.000000</td>\n",
       "      <td>0</td>\n",
       "      <td>6</td>\n",
       "    </tr>\n",
       "    <tr>\n",
       "      <th>4</th>\n",
       "      <td>50000</td>\n",
       "      <td>1</td>\n",
       "      <td>3</td>\n",
       "      <td>0</td>\n",
       "      <td>3</td>\n",
       "      <td>-1</td>\n",
       "      <td>0</td>\n",
       "      <td>-1</td>\n",
       "      <td>0</td>\n",
       "      <td>0</td>\n",
       "      <td>...</td>\n",
       "      <td>2000</td>\n",
       "      <td>36681</td>\n",
       "      <td>10000</td>\n",
       "      <td>9000</td>\n",
       "      <td>689</td>\n",
       "      <td>679</td>\n",
       "      <td>18223.166667</td>\n",
       "      <td>9841.500000</td>\n",
       "      <td>0</td>\n",
       "      <td>6</td>\n",
       "    </tr>\n",
       "  </tbody>\n",
       "</table>\n",
       "<p>5 rows × 27 columns</p>\n",
       "</div>"
      ],
      "text/plain": [
       "   credit_limit  gender  education  marital_status  age  timeliness_1  \\\n",
       "0         20000       0          3               0    0             2   \n",
       "1        120000       0          3               2    0            -1   \n",
       "2         90000       0          3               2    1             0   \n",
       "3         50000       0          3               0    1             0   \n",
       "4         50000       1          3               0    3            -1   \n",
       "\n",
       "   timeliness_2  timeliness_3  timeliness_4  timeliness_5  ...  payment_1  \\\n",
       "0             2            -1            -1            -2  ...          0   \n",
       "1             2             0             0             0  ...          0   \n",
       "2             0             0             0             0  ...       1518   \n",
       "3             0             0             0             0  ...       2000   \n",
       "4             0            -1             0             0  ...       2000   \n",
       "\n",
       "   payment_2  payment_3  payment_4  payment_5  payment_6   avg_balance  \\\n",
       "0        689          0          0          0          0   1284.000000   \n",
       "1       1000       1000       1000          0       2000   2846.166667   \n",
       "2       1500       1000       1000       1000       5000  16942.166667   \n",
       "3       2019       1200       1100       1069       1000  38555.666667   \n",
       "4      36681      10000       9000        689        679  18223.166667   \n",
       "\n",
       "   avg_payment  default  Installments_Paid  \n",
       "0   114.833333        1                  1  \n",
       "1   833.333333        1                  4  \n",
       "2  1836.333333        0                  6  \n",
       "3  1398.000000        0                  6  \n",
       "4  9841.500000        0                  6  \n",
       "\n",
       "[5 rows x 27 columns]"
      ]
     },
     "execution_count": 97,
     "metadata": {},
     "output_type": "execute_result"
    }
   ],
   "source": [
    "df1.head()"
   ]
  },
  {
   "cell_type": "code",
   "execution_count": 98,
   "metadata": {},
   "outputs": [
    {
     "name": "stdout",
     "output_type": "stream",
     "text": [
      "(30000, 26)\n",
      "(30000,)\n"
     ]
    }
   ],
   "source": [
    "# Dividing the data into independent and dependent variable\n",
    "X= df1.iloc[:,:25]\n",
    "X1=df1['Installments_Paid']\n",
    "X= pd.concat([pd.DataFrame(X),pd.DataFrame(X1)],axis=1)\n",
    "y=df1['default']\n",
    "print(X.shape)\n",
    "print(y.shape)"
   ]
  },
  {
   "cell_type": "code",
   "execution_count": 99,
   "metadata": {},
   "outputs": [
    {
     "name": "stdout",
     "output_type": "stream",
     "text": [
      "<class 'pandas.core.frame.DataFrame'>\n",
      "RangeIndex: 30000 entries, 0 to 29999\n",
      "Data columns (total 27 columns):\n",
      " #   Column             Non-Null Count  Dtype  \n",
      "---  ------             --------------  -----  \n",
      " 0   credit_limit       30000 non-null  int64  \n",
      " 1   gender             30000 non-null  int32  \n",
      " 2   education          30000 non-null  int32  \n",
      " 3   marital_status     30000 non-null  int32  \n",
      " 4   age                30000 non-null  int32  \n",
      " 5   timeliness_1       30000 non-null  int32  \n",
      " 6   timeliness_2       30000 non-null  int32  \n",
      " 7   timeliness_3       30000 non-null  int32  \n",
      " 8   timeliness_4       30000 non-null  int32  \n",
      " 9   timeliness_5       30000 non-null  int32  \n",
      " 10  timeliness_6       30000 non-null  int32  \n",
      " 11  balance_1          30000 non-null  int64  \n",
      " 12  balance_2          30000 non-null  int64  \n",
      " 13  balance_3          30000 non-null  int64  \n",
      " 14  balance_4          30000 non-null  int64  \n",
      " 15  balance_5          30000 non-null  int64  \n",
      " 16  balance_6          30000 non-null  int64  \n",
      " 17  payment_1          30000 non-null  int64  \n",
      " 18  payment_2          30000 non-null  int64  \n",
      " 19  payment_3          30000 non-null  int64  \n",
      " 20  payment_4          30000 non-null  int64  \n",
      " 21  payment_5          30000 non-null  int64  \n",
      " 22  payment_6          30000 non-null  int64  \n",
      " 23  avg_balance        30000 non-null  float64\n",
      " 24  avg_payment        30000 non-null  float64\n",
      " 25  default            30000 non-null  uint8  \n",
      " 26  Installments_Paid  30000 non-null  int64  \n",
      "dtypes: float64(2), int32(10), int64(14), uint8(1)\n",
      "memory usage: 4.8 MB\n"
     ]
    }
   ],
   "source": [
    "df1.info()"
   ]
  },
  {
   "cell_type": "code",
   "execution_count": 100,
   "metadata": {},
   "outputs": [
    {
     "name": "stdout",
     "output_type": "stream",
     "text": [
      "Requirement already satisfied: imbalanced-learn in d:\\python\\lib\\site-packages (0.8.0)\n",
      "Requirement already satisfied: scikit-learn>=0.24 in d:\\python\\lib\\site-packages (from imbalanced-learn) (0.24.1)\n",
      "Requirement already satisfied: joblib>=0.11 in d:\\python\\lib\\site-packages (from imbalanced-learn) (0.16.0)\n",
      "Requirement already satisfied: scipy>=0.19.1 in d:\\python\\lib\\site-packages (from imbalanced-learn) (1.5.0)\n",
      "Requirement already satisfied: numpy>=1.13.3 in d:\\python\\lib\\site-packages (from imbalanced-learn) (1.18.5)\n",
      "Requirement already satisfied: threadpoolctl>=2.0.0 in d:\\python\\lib\\site-packages (from scikit-learn>=0.24->imbalanced-learn) (2.1.0)\n"
     ]
    }
   ],
   "source": [
    "!pip install imbalanced-learn"
   ]
  },
  {
   "cell_type": "code",
   "execution_count": 101,
   "metadata": {},
   "outputs": [],
   "source": [
    "#Handling Imbalanced dataset:\n",
    "# from imblearn import combine\n",
    "\n",
    "from imblearn.over_sampling import SMOTE\n",
    "from sklearn.model_selection import train_test_split\n",
    "from collections import Counter"
   ]
  },
  {
   "cell_type": "code",
   "execution_count": 102,
   "metadata": {},
   "outputs": [],
   "source": [
    "# Dividing dataset into train and test\n",
    "X_train, X_test,y_train,y_test= train_test_split(X,y, test_size=0.3, random_state=1)"
   ]
  },
  {
   "cell_type": "code",
   "execution_count": 103,
   "metadata": {},
   "outputs": [],
   "source": [
    "# smk= SMOTETomek(random_state=1)\n",
    "# X_res,y_res = smk.fit_resample(X_train,y_train).ravel()\n",
    "\n",
    "# # Checking for the change in shape of dataset  \n",
    "# from collections import Counter\n",
    "# print('Original dataset shape of independent feature is {}'.format(Counter(Y)))\n",
    "# print('Resample dataset shape of independent feature is {}'.format(Counter(y_res)))\n",
    "# print('Original dataset shape of dependent feature is {}'.format(Counter(X)))\n",
    "# print('Resample dataset shape of dependent feature is{}'.format(Counter(X_res)))"
   ]
  },
  {
   "cell_type": "code",
   "execution_count": null,
   "metadata": {},
   "outputs": [],
   "source": []
  },
  {
   "cell_type": "code",
   "execution_count": 104,
   "metadata": {},
   "outputs": [
    {
     "name": "stdout",
     "output_type": "stream",
     "text": [
      "Before Counter({0: 16359, 1: 4641})\n",
      "After Counter({0: 16359, 1: 16359})\n"
     ]
    }
   ],
   "source": [
    "# Oversampling of train data\n",
    "counter = Counter(y_train)\n",
    "print('Before',counter)\n",
    "# oversampling the train dataset using SMOTE\n",
    "smt = SMOTE()\n",
    "#X_train, y_train = smt.fit_resample(X_train, y_train)\n",
    "X_train_sm, y_train_sm = smt.fit_resample(X_train, y_train.ravel())\n",
    "\n",
    "counter = Counter(y_train_sm)\n",
    "print('After',counter)"
   ]
  },
  {
   "cell_type": "code",
   "execution_count": 130,
   "metadata": {},
   "outputs": [
    {
     "data": {
      "text/html": [
       "<div>\n",
       "<style scoped>\n",
       "    .dataframe tbody tr th:only-of-type {\n",
       "        vertical-align: middle;\n",
       "    }\n",
       "\n",
       "    .dataframe tbody tr th {\n",
       "        vertical-align: top;\n",
       "    }\n",
       "\n",
       "    .dataframe thead th {\n",
       "        text-align: right;\n",
       "    }\n",
       "</style>\n",
       "<table border=\"1\" class=\"dataframe\">\n",
       "  <thead>\n",
       "    <tr style=\"text-align: right;\">\n",
       "      <th></th>\n",
       "      <th>credit_limit</th>\n",
       "      <th>gender</th>\n",
       "      <th>education</th>\n",
       "      <th>marital_status</th>\n",
       "      <th>age</th>\n",
       "      <th>timeliness_1</th>\n",
       "      <th>timeliness_2</th>\n",
       "      <th>timeliness_3</th>\n",
       "      <th>timeliness_4</th>\n",
       "      <th>timeliness_5</th>\n",
       "      <th>...</th>\n",
       "      <th>balance_6</th>\n",
       "      <th>payment_1</th>\n",
       "      <th>payment_2</th>\n",
       "      <th>payment_3</th>\n",
       "      <th>payment_4</th>\n",
       "      <th>payment_5</th>\n",
       "      <th>payment_6</th>\n",
       "      <th>avg_balance</th>\n",
       "      <th>avg_payment</th>\n",
       "      <th>Installments_Paid</th>\n",
       "    </tr>\n",
       "  </thead>\n",
       "  <tbody>\n",
       "    <tr>\n",
       "      <th>0</th>\n",
       "      <td>20000</td>\n",
       "      <td>1</td>\n",
       "      <td>2</td>\n",
       "      <td>2</td>\n",
       "      <td>0</td>\n",
       "      <td>-1</td>\n",
       "      <td>-1</td>\n",
       "      <td>-1</td>\n",
       "      <td>-1</td>\n",
       "      <td>-1</td>\n",
       "      <td>...</td>\n",
       "      <td>0</td>\n",
       "      <td>390</td>\n",
       "      <td>390</td>\n",
       "      <td>780</td>\n",
       "      <td>0</td>\n",
       "      <td>0</td>\n",
       "      <td>0</td>\n",
       "      <td>325.000000</td>\n",
       "      <td>260.000000</td>\n",
       "      <td>3</td>\n",
       "    </tr>\n",
       "    <tr>\n",
       "      <th>1</th>\n",
       "      <td>120000</td>\n",
       "      <td>1</td>\n",
       "      <td>3</td>\n",
       "      <td>0</td>\n",
       "      <td>3</td>\n",
       "      <td>2</td>\n",
       "      <td>0</td>\n",
       "      <td>0</td>\n",
       "      <td>0</td>\n",
       "      <td>0</td>\n",
       "      <td>...</td>\n",
       "      <td>46204</td>\n",
       "      <td>4449</td>\n",
       "      <td>2731</td>\n",
       "      <td>3000</td>\n",
       "      <td>5000</td>\n",
       "      <td>3000</td>\n",
       "      <td>3000</td>\n",
       "      <td>76286.833333</td>\n",
       "      <td>3530.000000</td>\n",
       "      <td>6</td>\n",
       "    </tr>\n",
       "    <tr>\n",
       "      <th>2</th>\n",
       "      <td>70000</td>\n",
       "      <td>0</td>\n",
       "      <td>3</td>\n",
       "      <td>2</td>\n",
       "      <td>0</td>\n",
       "      <td>0</td>\n",
       "      <td>0</td>\n",
       "      <td>0</td>\n",
       "      <td>0</td>\n",
       "      <td>0</td>\n",
       "      <td>...</td>\n",
       "      <td>25272</td>\n",
       "      <td>3003</td>\n",
       "      <td>5106</td>\n",
       "      <td>4026</td>\n",
       "      <td>755</td>\n",
       "      <td>1029</td>\n",
       "      <td>5303</td>\n",
       "      <td>25199.000000</td>\n",
       "      <td>3203.666667</td>\n",
       "      <td>6</td>\n",
       "    </tr>\n",
       "    <tr>\n",
       "      <th>3</th>\n",
       "      <td>230000</td>\n",
       "      <td>1</td>\n",
       "      <td>3</td>\n",
       "      <td>2</td>\n",
       "      <td>1</td>\n",
       "      <td>1</td>\n",
       "      <td>-2</td>\n",
       "      <td>-2</td>\n",
       "      <td>-2</td>\n",
       "      <td>-2</td>\n",
       "      <td>...</td>\n",
       "      <td>0</td>\n",
       "      <td>0</td>\n",
       "      <td>0</td>\n",
       "      <td>0</td>\n",
       "      <td>0</td>\n",
       "      <td>0</td>\n",
       "      <td>0</td>\n",
       "      <td>0.000000</td>\n",
       "      <td>0.000000</td>\n",
       "      <td>0</td>\n",
       "    </tr>\n",
       "    <tr>\n",
       "      <th>4</th>\n",
       "      <td>130000</td>\n",
       "      <td>1</td>\n",
       "      <td>3</td>\n",
       "      <td>2</td>\n",
       "      <td>3</td>\n",
       "      <td>0</td>\n",
       "      <td>0</td>\n",
       "      <td>0</td>\n",
       "      <td>0</td>\n",
       "      <td>0</td>\n",
       "      <td>...</td>\n",
       "      <td>98173</td>\n",
       "      <td>4000</td>\n",
       "      <td>5000</td>\n",
       "      <td>8000</td>\n",
       "      <td>4000</td>\n",
       "      <td>4000</td>\n",
       "      <td>5000</td>\n",
       "      <td>109036.000000</td>\n",
       "      <td>5000.000000</td>\n",
       "      <td>6</td>\n",
       "    </tr>\n",
       "  </tbody>\n",
       "</table>\n",
       "<p>5 rows × 26 columns</p>\n",
       "</div>"
      ],
      "text/plain": [
       "   credit_limit  gender  education  marital_status  age  timeliness_1  \\\n",
       "0         20000       1          2               2    0            -1   \n",
       "1        120000       1          3               0    3             2   \n",
       "2         70000       0          3               2    0             0   \n",
       "3        230000       1          3               2    1             1   \n",
       "4        130000       1          3               2    3             0   \n",
       "\n",
       "   timeliness_2  timeliness_3  timeliness_4  timeliness_5  ...  balance_6  \\\n",
       "0            -1            -1            -1            -1  ...          0   \n",
       "1             0             0             0             0  ...      46204   \n",
       "2             0             0             0             0  ...      25272   \n",
       "3            -2            -2            -2            -2  ...          0   \n",
       "4             0             0             0             0  ...      98173   \n",
       "\n",
       "   payment_1  payment_2  payment_3  payment_4  payment_5  payment_6  \\\n",
       "0        390        390        780          0          0          0   \n",
       "1       4449       2731       3000       5000       3000       3000   \n",
       "2       3003       5106       4026        755       1029       5303   \n",
       "3          0          0          0          0          0          0   \n",
       "4       4000       5000       8000       4000       4000       5000   \n",
       "\n",
       "     avg_balance  avg_payment  Installments_Paid  \n",
       "0     325.000000   260.000000                  3  \n",
       "1   76286.833333  3530.000000                  6  \n",
       "2   25199.000000  3203.666667                  6  \n",
       "3       0.000000     0.000000                  0  \n",
       "4  109036.000000  5000.000000                  6  \n",
       "\n",
       "[5 rows x 26 columns]"
      ]
     },
     "execution_count": 130,
     "metadata": {},
     "output_type": "execute_result"
    }
   ],
   "source": [
    "X_train_sm.head()"
   ]
  },
  {
   "cell_type": "code",
   "execution_count": 132,
   "metadata": {},
   "outputs": [
    {
     "data": {
      "text/plain": [
       "Text(0.5, 0, 'Default')"
      ]
     },
     "execution_count": 132,
     "metadata": {},
     "output_type": "execute_result"
    },
    {
     "data": {
      "image/png": "[encoded data removed]",
      "text/plain": [
       "<Figure size 432x288 with 1 Axes>"
      ]
     },
     "metadata": {
      "needs_background": "light"
     },
     "output_type": "display_data"
    }
   ],
   "source": [
    "sns.countplot(y_train_sm)\n",
    "plt.xlabel('Default')"
   ]
  },
  {
   "cell_type": "code",
   "execution_count": 105,
   "metadata": {},
   "outputs": [],
   "source": [
    "import xgboost\n",
    "from xgboost import XGBClassifier\n",
    "from sklearn.model_selection import cross_val_score\n",
    "from sklearn.metrics import classification_report,accuracy_score,precision_score,recall_score,f1_score,confusion_matrix,roc_curve,roc_auc_score\n",
    "# import lightgbm \n",
    "# from lightgbm import LGBMClassifier\n",
    "from sklearn.ensemble import RandomForestClassifier\n",
    "from sklearn.model_selection import GridSearchCV\n",
    "import statsmodels.api as sm"
   ]
  },
  {
   "cell_type": "code",
   "execution_count": 106,
   "metadata": {},
   "outputs": [
    {
     "data": {
      "text/html": [
       "<div>\n",
       "<style scoped>\n",
       "    .dataframe tbody tr th:only-of-type {\n",
       "        vertical-align: middle;\n",
       "    }\n",
       "\n",
       "    .dataframe tbody tr th {\n",
       "        vertical-align: top;\n",
       "    }\n",
       "\n",
       "    .dataframe thead th {\n",
       "        text-align: right;\n",
       "    }\n",
       "</style>\n",
       "<table border=\"1\" class=\"dataframe\">\n",
       "  <thead>\n",
       "    <tr style=\"text-align: right;\">\n",
       "      <th></th>\n",
       "      <th>credit_limit</th>\n",
       "      <th>gender</th>\n",
       "      <th>education</th>\n",
       "      <th>marital_status</th>\n",
       "      <th>age</th>\n",
       "      <th>timeliness_1</th>\n",
       "      <th>timeliness_2</th>\n",
       "      <th>timeliness_3</th>\n",
       "      <th>timeliness_4</th>\n",
       "      <th>timeliness_5</th>\n",
       "      <th>...</th>\n",
       "      <th>balance_6</th>\n",
       "      <th>payment_1</th>\n",
       "      <th>payment_2</th>\n",
       "      <th>payment_3</th>\n",
       "      <th>payment_4</th>\n",
       "      <th>payment_5</th>\n",
       "      <th>payment_6</th>\n",
       "      <th>avg_balance</th>\n",
       "      <th>avg_payment</th>\n",
       "      <th>Installments_Paid</th>\n",
       "    </tr>\n",
       "  </thead>\n",
       "  <tbody>\n",
       "    <tr>\n",
       "      <th>0</th>\n",
       "      <td>20000</td>\n",
       "      <td>1</td>\n",
       "      <td>2</td>\n",
       "      <td>2</td>\n",
       "      <td>0</td>\n",
       "      <td>-1</td>\n",
       "      <td>-1</td>\n",
       "      <td>-1</td>\n",
       "      <td>-1</td>\n",
       "      <td>-1</td>\n",
       "      <td>...</td>\n",
       "      <td>0</td>\n",
       "      <td>390</td>\n",
       "      <td>390</td>\n",
       "      <td>780</td>\n",
       "      <td>0</td>\n",
       "      <td>0</td>\n",
       "      <td>0</td>\n",
       "      <td>325.000000</td>\n",
       "      <td>260.000000</td>\n",
       "      <td>3</td>\n",
       "    </tr>\n",
       "    <tr>\n",
       "      <th>1</th>\n",
       "      <td>120000</td>\n",
       "      <td>1</td>\n",
       "      <td>3</td>\n",
       "      <td>0</td>\n",
       "      <td>3</td>\n",
       "      <td>2</td>\n",
       "      <td>0</td>\n",
       "      <td>0</td>\n",
       "      <td>0</td>\n",
       "      <td>0</td>\n",
       "      <td>...</td>\n",
       "      <td>46204</td>\n",
       "      <td>4449</td>\n",
       "      <td>2731</td>\n",
       "      <td>3000</td>\n",
       "      <td>5000</td>\n",
       "      <td>3000</td>\n",
       "      <td>3000</td>\n",
       "      <td>76286.833333</td>\n",
       "      <td>3530.000000</td>\n",
       "      <td>6</td>\n",
       "    </tr>\n",
       "    <tr>\n",
       "      <th>2</th>\n",
       "      <td>70000</td>\n",
       "      <td>0</td>\n",
       "      <td>3</td>\n",
       "      <td>2</td>\n",
       "      <td>0</td>\n",
       "      <td>0</td>\n",
       "      <td>0</td>\n",
       "      <td>0</td>\n",
       "      <td>0</td>\n",
       "      <td>0</td>\n",
       "      <td>...</td>\n",
       "      <td>25272</td>\n",
       "      <td>3003</td>\n",
       "      <td>5106</td>\n",
       "      <td>4026</td>\n",
       "      <td>755</td>\n",
       "      <td>1029</td>\n",
       "      <td>5303</td>\n",
       "      <td>25199.000000</td>\n",
       "      <td>3203.666667</td>\n",
       "      <td>6</td>\n",
       "    </tr>\n",
       "    <tr>\n",
       "      <th>3</th>\n",
       "      <td>230000</td>\n",
       "      <td>1</td>\n",
       "      <td>3</td>\n",
       "      <td>2</td>\n",
       "      <td>1</td>\n",
       "      <td>1</td>\n",
       "      <td>-2</td>\n",
       "      <td>-2</td>\n",
       "      <td>-2</td>\n",
       "      <td>-2</td>\n",
       "      <td>...</td>\n",
       "      <td>0</td>\n",
       "      <td>0</td>\n",
       "      <td>0</td>\n",
       "      <td>0</td>\n",
       "      <td>0</td>\n",
       "      <td>0</td>\n",
       "      <td>0</td>\n",
       "      <td>0.000000</td>\n",
       "      <td>0.000000</td>\n",
       "      <td>0</td>\n",
       "    </tr>\n",
       "    <tr>\n",
       "      <th>4</th>\n",
       "      <td>130000</td>\n",
       "      <td>1</td>\n",
       "      <td>3</td>\n",
       "      <td>2</td>\n",
       "      <td>3</td>\n",
       "      <td>0</td>\n",
       "      <td>0</td>\n",
       "      <td>0</td>\n",
       "      <td>0</td>\n",
       "      <td>0</td>\n",
       "      <td>...</td>\n",
       "      <td>98173</td>\n",
       "      <td>4000</td>\n",
       "      <td>5000</td>\n",
       "      <td>8000</td>\n",
       "      <td>4000</td>\n",
       "      <td>4000</td>\n",
       "      <td>5000</td>\n",
       "      <td>109036.000000</td>\n",
       "      <td>5000.000000</td>\n",
       "      <td>6</td>\n",
       "    </tr>\n",
       "  </tbody>\n",
       "</table>\n",
       "<p>5 rows × 26 columns</p>\n",
       "</div>"
      ],
      "text/plain": [
       "   credit_limit  gender  education  marital_status  age  timeliness_1  \\\n",
       "0         20000       1          2               2    0            -1   \n",
       "1        120000       1          3               0    3             2   \n",
       "2         70000       0          3               2    0             0   \n",
       "3        230000       1          3               2    1             1   \n",
       "4        130000       1          3               2    3             0   \n",
       "\n",
       "   timeliness_2  timeliness_3  timeliness_4  timeliness_5  ...  balance_6  \\\n",
       "0            -1            -1            -1            -1  ...          0   \n",
       "1             0             0             0             0  ...      46204   \n",
       "2             0             0             0             0  ...      25272   \n",
       "3            -2            -2            -2            -2  ...          0   \n",
       "4             0             0             0             0  ...      98173   \n",
       "\n",
       "   payment_1  payment_2  payment_3  payment_4  payment_5  payment_6  \\\n",
       "0        390        390        780          0          0          0   \n",
       "1       4449       2731       3000       5000       3000       3000   \n",
       "2       3003       5106       4026        755       1029       5303   \n",
       "3          0          0          0          0          0          0   \n",
       "4       4000       5000       8000       4000       4000       5000   \n",
       "\n",
       "     avg_balance  avg_payment  Installments_Paid  \n",
       "0     325.000000   260.000000                  3  \n",
       "1   76286.833333  3530.000000                  6  \n",
       "2   25199.000000  3203.666667                  6  \n",
       "3       0.000000     0.000000                  0  \n",
       "4  109036.000000  5000.000000                  6  \n",
       "\n",
       "[5 rows x 26 columns]"
      ]
     },
     "execution_count": 106,
     "metadata": {},
     "output_type": "execute_result"
    }
   ],
   "source": [
    "X_train_sm.head()"
   ]
  },
  {
   "cell_type": "code",
   "execution_count": 107,
   "metadata": {},
   "outputs": [],
   "source": [
    "data=X_train_sm.drop(['gender','education','marital_status','age','timeliness_1','timeliness_2','timeliness_3','timeliness_4',\n",
    "                'timeliness_5','timeliness_6','Installments_Paid'],1)"
   ]
  },
  {
   "cell_type": "code",
   "execution_count": 108,
   "metadata": {},
   "outputs": [],
   "source": [
    "cat=X_train_sm[['gender','education','marital_status','age','timeliness_1','timeliness_2','timeliness_3','timeliness_4',\n",
    "                'timeliness_5','timeliness_6']]"
   ]
  },
  {
   "cell_type": "code",
   "execution_count": 109,
   "metadata": {},
   "outputs": [],
   "source": [
    "from sklearn.preprocessing import StandardScaler\n",
    "ss=StandardScaler()\n",
    "df_scaled=ss.fit_transform(data)"
   ]
  },
  {
   "cell_type": "code",
   "execution_count": 110,
   "metadata": {},
   "outputs": [],
   "source": [
    "df_scaled1=pd.DataFrame(df_scaled,columns=data.columns)"
   ]
  },
  {
   "cell_type": "code",
   "execution_count": 111,
   "metadata": {},
   "outputs": [
    {
     "data": {
      "text/html": [
       "<div>\n",
       "<style scoped>\n",
       "    .dataframe tbody tr th:only-of-type {\n",
       "        vertical-align: middle;\n",
       "    }\n",
       "\n",
       "    .dataframe tbody tr th {\n",
       "        vertical-align: top;\n",
       "    }\n",
       "\n",
       "    .dataframe thead th {\n",
       "        text-align: right;\n",
       "    }\n",
       "</style>\n",
       "<table border=\"1\" class=\"dataframe\">\n",
       "  <thead>\n",
       "    <tr style=\"text-align: right;\">\n",
       "      <th></th>\n",
       "      <th>credit_limit</th>\n",
       "      <th>balance_1</th>\n",
       "      <th>balance_2</th>\n",
       "      <th>balance_3</th>\n",
       "      <th>balance_4</th>\n",
       "      <th>balance_5</th>\n",
       "      <th>balance_6</th>\n",
       "      <th>payment_1</th>\n",
       "      <th>payment_2</th>\n",
       "      <th>payment_3</th>\n",
       "      <th>payment_4</th>\n",
       "      <th>payment_5</th>\n",
       "      <th>payment_6</th>\n",
       "      <th>avg_balance</th>\n",
       "      <th>avg_payment</th>\n",
       "    </tr>\n",
       "  </thead>\n",
       "  <tbody>\n",
       "    <tr>\n",
       "      <th>0</th>\n",
       "      <td>-1.070388</td>\n",
       "      <td>-0.677901</td>\n",
       "      <td>-0.676560</td>\n",
       "      <td>-0.673363</td>\n",
       "      <td>-0.657885</td>\n",
       "      <td>-0.658389</td>\n",
       "      <td>-0.650452</td>\n",
       "      <td>-0.305989</td>\n",
       "      <td>-0.240766</td>\n",
       "      <td>-0.237997</td>\n",
       "      <td>-0.298778</td>\n",
       "      <td>-0.302094</td>\n",
       "      <td>-0.292575</td>\n",
       "      <td>-0.693140</td>\n",
       "      <td>-0.477791</td>\n",
       "    </tr>\n",
       "    <tr>\n",
       "      <th>1</th>\n",
       "      <td>-0.271028</td>\n",
       "      <td>0.781443</td>\n",
       "      <td>0.826184</td>\n",
       "      <td>0.866992</td>\n",
       "      <td>0.058652</td>\n",
       "      <td>0.092321</td>\n",
       "      <td>0.126627</td>\n",
       "      <td>-0.014810</td>\n",
       "      <td>-0.115607</td>\n",
       "      <td>-0.090014</td>\n",
       "      <td>0.079234</td>\n",
       "      <td>-0.076323</td>\n",
       "      <td>-0.089797</td>\n",
       "      <td>0.502915</td>\n",
       "      <td>-0.097260</td>\n",
       "    </tr>\n",
       "    <tr>\n",
       "      <th>2</th>\n",
       "      <td>-0.670708</td>\n",
       "      <td>-0.363596</td>\n",
       "      <td>-0.354772</td>\n",
       "      <td>-0.295691</td>\n",
       "      <td>-0.226915</td>\n",
       "      <td>-0.248471</td>\n",
       "      <td>-0.225417</td>\n",
       "      <td>-0.118541</td>\n",
       "      <td>0.011369</td>\n",
       "      <td>-0.021623</td>\n",
       "      <td>-0.241698</td>\n",
       "      <td>-0.224655</td>\n",
       "      <td>0.065869</td>\n",
       "      <td>-0.301487</td>\n",
       "      <td>-0.135235</td>\n",
       "    </tr>\n",
       "    <tr>\n",
       "      <th>3</th>\n",
       "      <td>0.608267</td>\n",
       "      <td>-0.683226</td>\n",
       "      <td>-0.682068</td>\n",
       "      <td>-0.679091</td>\n",
       "      <td>-0.670082</td>\n",
       "      <td>-0.658389</td>\n",
       "      <td>-0.650452</td>\n",
       "      <td>-0.333966</td>\n",
       "      <td>-0.261617</td>\n",
       "      <td>-0.289991</td>\n",
       "      <td>-0.298778</td>\n",
       "      <td>-0.302094</td>\n",
       "      <td>-0.292575</td>\n",
       "      <td>-0.698257</td>\n",
       "      <td>-0.508047</td>\n",
       "    </tr>\n",
       "    <tr>\n",
       "      <th>4</th>\n",
       "      <td>-0.191092</td>\n",
       "      <td>0.971181</td>\n",
       "      <td>0.868752</td>\n",
       "      <td>0.962729</td>\n",
       "      <td>1.149321</td>\n",
       "      <td>0.937812</td>\n",
       "      <td>1.000664</td>\n",
       "      <td>-0.047020</td>\n",
       "      <td>0.005702</td>\n",
       "      <td>0.243279</td>\n",
       "      <td>0.003631</td>\n",
       "      <td>-0.001066</td>\n",
       "      <td>0.045389</td>\n",
       "      <td>1.018566</td>\n",
       "      <td>0.073805</td>\n",
       "    </tr>\n",
       "  </tbody>\n",
       "</table>\n",
       "</div>"
      ],
      "text/plain": [
       "   credit_limit  balance_1  balance_2  balance_3  balance_4  balance_5  \\\n",
       "0     -1.070388  -0.677901  -0.676560  -0.673363  -0.657885  -0.658389   \n",
       "1     -0.271028   0.781443   0.826184   0.866992   0.058652   0.092321   \n",
       "2     -0.670708  -0.363596  -0.354772  -0.295691  -0.226915  -0.248471   \n",
       "3      0.608267  -0.683226  -0.682068  -0.679091  -0.670082  -0.658389   \n",
       "4     -0.191092   0.971181   0.868752   0.962729   1.149321   0.937812   \n",
       "\n",
       "   balance_6  payment_1  payment_2  payment_3  payment_4  payment_5  \\\n",
       "0  -0.650452  -0.305989  -0.240766  -0.237997  -0.298778  -0.302094   \n",
       "1   0.126627  -0.014810  -0.115607  -0.090014   0.079234  -0.076323   \n",
       "2  -0.225417  -0.118541   0.011369  -0.021623  -0.241698  -0.224655   \n",
       "3  -0.650452  -0.333966  -0.261617  -0.289991  -0.298778  -0.302094   \n",
       "4   1.000664  -0.047020   0.005702   0.243279   0.003631  -0.001066   \n",
       "\n",
       "   payment_6  avg_balance  avg_payment  \n",
       "0  -0.292575    -0.693140    -0.477791  \n",
       "1  -0.089797     0.502915    -0.097260  \n",
       "2   0.065869    -0.301487    -0.135235  \n",
       "3  -0.292575    -0.698257    -0.508047  \n",
       "4   0.045389     1.018566     0.073805  "
      ]
     },
     "execution_count": 111,
     "metadata": {},
     "output_type": "execute_result"
    }
   ],
   "source": [
    "df_scaled1.head()"
   ]
  },
  {
   "cell_type": "code",
   "execution_count": 112,
   "metadata": {},
   "outputs": [],
   "source": [
    "dat=pd.get_dummies(cat['education'],drop_first=True,prefix='education_')\n",
    "X_train_mod=pd.concat([df_scaled1,dat],1)"
   ]
  },
  {
   "cell_type": "code",
   "execution_count": 113,
   "metadata": {},
   "outputs": [],
   "source": [
    "X_train_mod=pd.concat([X_train_mod,cat['gender']],1)"
   ]
  },
  {
   "cell_type": "code",
   "execution_count": 114,
   "metadata": {},
   "outputs": [],
   "source": [
    "dat=pd.get_dummies(cat['marital_status'],drop_first=True,prefix='marital_status_')\n",
    "X_train_mod=pd.concat([X_train_mod,dat],1)"
   ]
  },
  {
   "cell_type": "code",
   "execution_count": 115,
   "metadata": {},
   "outputs": [],
   "source": [
    "dat=pd.get_dummies(cat['age'],drop_first=True,prefix='age_')\n",
    "X_train_mod=pd.concat([X_train_mod,dat],1)"
   ]
  },
  {
   "cell_type": "code",
   "execution_count": 116,
   "metadata": {},
   "outputs": [],
   "source": [
    "dat=pd.get_dummies(cat['timeliness_1'],drop_first=True,prefix='timeliness_1_')\n",
    "X_train_mod=pd.concat([X_train_mod,dat],1)"
   ]
  },
  {
   "cell_type": "code",
   "execution_count": 117,
   "metadata": {},
   "outputs": [],
   "source": [
    "dat=pd.get_dummies(cat['timeliness_2'],drop_first=True,prefix='timeliness_2_')\n",
    "X_train_mod=pd.concat([X_train_mod,dat],1)"
   ]
  },
  {
   "cell_type": "code",
   "execution_count": 118,
   "metadata": {},
   "outputs": [],
   "source": [
    "dat=pd.get_dummies(cat['timeliness_3'],drop_first=True,prefix='timeliness_3_')\n",
    "X_train_mod=pd.concat([X_train_mod,dat],1)"
   ]
  },
  {
   "cell_type": "code",
   "execution_count": 119,
   "metadata": {},
   "outputs": [],
   "source": [
    "dat=pd.get_dummies(cat['timeliness_4'],drop_first=True,prefix='timeliness_4_')\n",
    "X_train_mod=pd.concat([X_train_mod,dat],1)"
   ]
  },
  {
   "cell_type": "code",
   "execution_count": 120,
   "metadata": {},
   "outputs": [],
   "source": [
    "dat=pd.get_dummies(cat['timeliness_5'],drop_first=True,prefix='timeliness_5_')\n",
    "X_train_mod=pd.concat([X_train_mod,dat],1)"
   ]
  },
  {
   "cell_type": "code",
   "execution_count": 121,
   "metadata": {},
   "outputs": [],
   "source": [
    "dat=pd.get_dummies(cat['timeliness_6'],drop_first=True,prefix='timeliness_6_')\n",
    "X_train_mod=pd.concat([X_train_mod,dat],1)"
   ]
  },
  {
   "cell_type": "code",
   "execution_count": 122,
   "metadata": {},
   "outputs": [
    {
     "data": {
      "text/plain": [
       "0    15304\n",
       "2    14286\n",
       "1     3128\n",
       "Name: marital_status, dtype: int64"
      ]
     },
     "execution_count": 122,
     "metadata": {},
     "output_type": "execute_result"
    }
   ],
   "source": [
    "cat['marital_status'].value_counts()"
   ]
  },
  {
   "cell_type": "code",
   "execution_count": 123,
   "metadata": {},
   "outputs": [
    {
     "data": {
      "text/html": [
       "<div>\n",
       "<style scoped>\n",
       "    .dataframe tbody tr th:only-of-type {\n",
       "        vertical-align: middle;\n",
       "    }\n",
       "\n",
       "    .dataframe tbody tr th {\n",
       "        vertical-align: top;\n",
       "    }\n",
       "\n",
       "    .dataframe thead th {\n",
       "        text-align: right;\n",
       "    }\n",
       "</style>\n",
       "<table border=\"1\" class=\"dataframe\">\n",
       "  <thead>\n",
       "    <tr style=\"text-align: right;\">\n",
       "      <th></th>\n",
       "      <th>credit_limit</th>\n",
       "      <th>balance_1</th>\n",
       "      <th>balance_2</th>\n",
       "      <th>balance_3</th>\n",
       "      <th>balance_4</th>\n",
       "      <th>balance_5</th>\n",
       "      <th>balance_6</th>\n",
       "      <th>payment_1</th>\n",
       "      <th>payment_2</th>\n",
       "      <th>payment_3</th>\n",
       "      <th>...</th>\n",
       "      <th>timeliness_6__-1</th>\n",
       "      <th>timeliness_6__0</th>\n",
       "      <th>timeliness_6__1</th>\n",
       "      <th>timeliness_6__2</th>\n",
       "      <th>timeliness_6__3</th>\n",
       "      <th>timeliness_6__4</th>\n",
       "      <th>timeliness_6__5</th>\n",
       "      <th>timeliness_6__6</th>\n",
       "      <th>timeliness_6__7</th>\n",
       "      <th>timeliness_6__8</th>\n",
       "    </tr>\n",
       "  </thead>\n",
       "  <tbody>\n",
       "    <tr>\n",
       "      <th>0</th>\n",
       "      <td>-1.070388</td>\n",
       "      <td>-0.677901</td>\n",
       "      <td>-0.676560</td>\n",
       "      <td>-0.673363</td>\n",
       "      <td>-0.657885</td>\n",
       "      <td>-0.658389</td>\n",
       "      <td>-0.650452</td>\n",
       "      <td>-0.305989</td>\n",
       "      <td>-0.240766</td>\n",
       "      <td>-0.237997</td>\n",
       "      <td>...</td>\n",
       "      <td>0</td>\n",
       "      <td>0</td>\n",
       "      <td>0</td>\n",
       "      <td>0</td>\n",
       "      <td>0</td>\n",
       "      <td>0</td>\n",
       "      <td>0</td>\n",
       "      <td>0</td>\n",
       "      <td>0</td>\n",
       "      <td>0</td>\n",
       "    </tr>\n",
       "    <tr>\n",
       "      <th>1</th>\n",
       "      <td>-0.271028</td>\n",
       "      <td>0.781443</td>\n",
       "      <td>0.826184</td>\n",
       "      <td>0.866992</td>\n",
       "      <td>0.058652</td>\n",
       "      <td>0.092321</td>\n",
       "      <td>0.126627</td>\n",
       "      <td>-0.014810</td>\n",
       "      <td>-0.115607</td>\n",
       "      <td>-0.090014</td>\n",
       "      <td>...</td>\n",
       "      <td>0</td>\n",
       "      <td>1</td>\n",
       "      <td>0</td>\n",
       "      <td>0</td>\n",
       "      <td>0</td>\n",
       "      <td>0</td>\n",
       "      <td>0</td>\n",
       "      <td>0</td>\n",
       "      <td>0</td>\n",
       "      <td>0</td>\n",
       "    </tr>\n",
       "    <tr>\n",
       "      <th>2</th>\n",
       "      <td>-0.670708</td>\n",
       "      <td>-0.363596</td>\n",
       "      <td>-0.354772</td>\n",
       "      <td>-0.295691</td>\n",
       "      <td>-0.226915</td>\n",
       "      <td>-0.248471</td>\n",
       "      <td>-0.225417</td>\n",
       "      <td>-0.118541</td>\n",
       "      <td>0.011369</td>\n",
       "      <td>-0.021623</td>\n",
       "      <td>...</td>\n",
       "      <td>0</td>\n",
       "      <td>1</td>\n",
       "      <td>0</td>\n",
       "      <td>0</td>\n",
       "      <td>0</td>\n",
       "      <td>0</td>\n",
       "      <td>0</td>\n",
       "      <td>0</td>\n",
       "      <td>0</td>\n",
       "      <td>0</td>\n",
       "    </tr>\n",
       "    <tr>\n",
       "      <th>3</th>\n",
       "      <td>0.608267</td>\n",
       "      <td>-0.683226</td>\n",
       "      <td>-0.682068</td>\n",
       "      <td>-0.679091</td>\n",
       "      <td>-0.670082</td>\n",
       "      <td>-0.658389</td>\n",
       "      <td>-0.650452</td>\n",
       "      <td>-0.333966</td>\n",
       "      <td>-0.261617</td>\n",
       "      <td>-0.289991</td>\n",
       "      <td>...</td>\n",
       "      <td>0</td>\n",
       "      <td>0</td>\n",
       "      <td>0</td>\n",
       "      <td>0</td>\n",
       "      <td>0</td>\n",
       "      <td>0</td>\n",
       "      <td>0</td>\n",
       "      <td>0</td>\n",
       "      <td>0</td>\n",
       "      <td>0</td>\n",
       "    </tr>\n",
       "    <tr>\n",
       "      <th>4</th>\n",
       "      <td>-0.191092</td>\n",
       "      <td>0.971181</td>\n",
       "      <td>0.868752</td>\n",
       "      <td>0.962729</td>\n",
       "      <td>1.149321</td>\n",
       "      <td>0.937812</td>\n",
       "      <td>1.000664</td>\n",
       "      <td>-0.047020</td>\n",
       "      <td>0.005702</td>\n",
       "      <td>0.243279</td>\n",
       "      <td>...</td>\n",
       "      <td>0</td>\n",
       "      <td>1</td>\n",
       "      <td>0</td>\n",
       "      <td>0</td>\n",
       "      <td>0</td>\n",
       "      <td>0</td>\n",
       "      <td>0</td>\n",
       "      <td>0</td>\n",
       "      <td>0</td>\n",
       "      <td>0</td>\n",
       "    </tr>\n",
       "  </tbody>\n",
       "</table>\n",
       "<p>5 rows × 85 columns</p>\n",
       "</div>"
      ],
      "text/plain": [
       "   credit_limit  balance_1  balance_2  balance_3  balance_4  balance_5  \\\n",
       "0     -1.070388  -0.677901  -0.676560  -0.673363  -0.657885  -0.658389   \n",
       "1     -0.271028   0.781443   0.826184   0.866992   0.058652   0.092321   \n",
       "2     -0.670708  -0.363596  -0.354772  -0.295691  -0.226915  -0.248471   \n",
       "3      0.608267  -0.683226  -0.682068  -0.679091  -0.670082  -0.658389   \n",
       "4     -0.191092   0.971181   0.868752   0.962729   1.149321   0.937812   \n",
       "\n",
       "   balance_6  payment_1  payment_2  payment_3  ...  timeliness_6__-1  \\\n",
       "0  -0.650452  -0.305989  -0.240766  -0.237997  ...                 0   \n",
       "1   0.126627  -0.014810  -0.115607  -0.090014  ...                 0   \n",
       "2  -0.225417  -0.118541   0.011369  -0.021623  ...                 0   \n",
       "3  -0.650452  -0.333966  -0.261617  -0.289991  ...                 0   \n",
       "4   1.000664  -0.047020   0.005702   0.243279  ...                 0   \n",
       "\n",
       "   timeliness_6__0  timeliness_6__1  timeliness_6__2  timeliness_6__3  \\\n",
       "0                0                0                0                0   \n",
       "1                1                0                0                0   \n",
       "2                1                0                0                0   \n",
       "3                0                0                0                0   \n",
       "4                1                0                0                0   \n",
       "\n",
       "   timeliness_6__4  timeliness_6__5  timeliness_6__6  timeliness_6__7  \\\n",
       "0                0                0                0                0   \n",
       "1                0                0                0                0   \n",
       "2                0                0                0                0   \n",
       "3                0                0                0                0   \n",
       "4                0                0                0                0   \n",
       "\n",
       "   timeliness_6__8  \n",
       "0                0  \n",
       "1                0  \n",
       "2                0  \n",
       "3                0  \n",
       "4                0  \n",
       "\n",
       "[5 rows x 85 columns]"
      ]
     },
     "execution_count": 123,
     "metadata": {},
     "output_type": "execute_result"
    }
   ],
   "source": [
    "X_train_mod.head()"
   ]
  },
  {
   "cell_type": "code",
   "execution_count": 124,
   "metadata": {},
   "outputs": [],
   "source": [
    "X_train_mod=pd.concat([X_train_mod,X_train_sm['Installments_Paid']],1)"
   ]
  },
  {
   "cell_type": "code",
   "execution_count": 125,
   "metadata": {},
   "outputs": [],
   "source": [
    "X_train_mod=X_train_mod.drop('Installments_Paid',1)"
   ]
  },
  {
   "cell_type": "code",
   "execution_count": null,
   "metadata": {},
   "outputs": [],
   "source": []
  },
  {
   "cell_type": "code",
   "execution_count": 126,
   "metadata": {},
   "outputs": [],
   "source": [
    "X_train_log, X_test_log,y_train_log,y_test_log= train_test_split(X_train_mod,y_train_sm, test_size=0.3, random_state=1)"
   ]
  },
  {
   "cell_type": "markdown",
   "metadata": {},
   "source": [
    "# Building base models \n"
   ]
  },
  {
   "cell_type": "code",
   "execution_count": 127,
   "metadata": {},
   "outputs": [],
   "source": [
    "#Base model:\n",
    "#1) Logistic regression:\n",
    "\n",
    "X_log=X_train_sm\n",
    "y_log=y_train_sm\n",
    "x_log=sm.add_constant(X_log)\n",
    "X_train_log, X_test_log,y_train_log,y_test_log= train_test_split(X_log,y_log, test_size=0.3, random_state=1)"
   ]
  },
  {
   "cell_type": "code",
   "execution_count": null,
   "metadata": {},
   "outputs": [],
   "source": [
    "logreg = sm.Logit(y_train_log, X_train_log).fit()\n",
    "print(logreg.summary())"
   ]
  },
  {
   "cell_type": "code",
   "execution_count": null,
   "metadata": {},
   "outputs": [],
   "source": []
  },
  {
   "cell_type": "code",
   "execution_count": 164,
   "metadata": {},
   "outputs": [],
   "source": [
    "from sklearn.linear_model import LogisticRegression"
   ]
  },
  {
   "cell_type": "code",
   "execution_count": 165,
   "metadata": {},
   "outputs": [
    {
     "data": {
      "text/plain": [
       "array([0, 0, 0, ..., 0, 0, 0], dtype=uint8)"
      ]
     },
     "execution_count": 165,
     "metadata": {},
     "output_type": "execute_result"
    }
   ],
   "source": [
    "clf = LogisticRegression(random_state=0).fit(X_train_sm, y_train_sm)\n",
    "y_pred=clf.predict(X_test)"
   ]
  },
  {
   "cell_type": "code",
   "execution_count": 167,
   "metadata": {},
   "outputs": [
    {
     "name": "stdout",
     "output_type": "stream",
     "text": [
      "Classificaltion report \n",
      "               precision    recall  f1-score   support\n",
      "\n",
      "           0       0.82      0.89      0.86      4980\n",
      "           1       0.88      0.80      0.84      4836\n",
      "\n",
      "    accuracy                           0.85      9816\n",
      "   macro avg       0.85      0.85      0.85      9816\n",
      "weighted avg       0.85      0.85      0.85      9816\n",
      "\n"
     ]
    }
   ],
   "source": [
    "print('Classificaltion report \\n',classification_report(y_test_log,y_pred))"
   ]
  },
  {
   "cell_type": "code",
   "execution_count": 170,
   "metadata": {},
   "outputs": [
    {
     "data": {
      "text/plain": [
       "<matplotlib.axes._subplots.AxesSubplot at 0x208cd68bb80>"
      ]
     },
     "execution_count": 170,
     "metadata": {},
     "output_type": "execute_result"
    },
    {
     "data": {
      "image/png": "[encoded data removed]",
      "text/plain": [
       "<Figure size 432x288 with 1 Axes>"
      ]
     },
     "metadata": {
      "needs_background": "light"
     },
     "output_type": "display_data"
    }
   ],
   "source": [
    "cm = confusion_matrix(y_test_log,y_pred)\n",
    "conf_matrix = pd.DataFrame(data = cm,columns = ['Predicted Defaukt: No','Predicted Default: Yes'], \n",
    "                           index = ['Actual Default :No','Actual Default :Yes'])\n",
    "sns.heatmap(conf_matrix, annot=True, annot_kws = {'size':25}, fmt = 'd',linewidths = 0.3, cbar = False)"
   ]
  },
  {
   "cell_type": "code",
   "execution_count": null,
   "metadata": {},
   "outputs": [],
   "source": [
    "#Logistic Regression "
   ]
  },
  {
   "cell_type": "code",
   "execution_count": 172,
   "metadata": {},
   "outputs": [
    {
     "name": "stdout",
     "output_type": "stream",
     "text": [
      "Classificaltion report \n",
      "               precision    recall  f1-score   support\n",
      "\n",
      "           0       0.85      0.90      0.87      7005\n",
      "           1       0.55      0.44      0.49      1995\n",
      "\n",
      "    accuracy                           0.80      9000\n",
      "   macro avg       0.70      0.67      0.68      9000\n",
      "weighted avg       0.78      0.80      0.79      9000\n",
      "\n"
     ]
    }
   ],
   "source": [
    "#Random forest:\n",
    "rf= RandomForestClassifier(random_state=1)\n",
    "rf.fit(X_train_sm,y_train_sm)\n",
    "\n",
    "\n",
    "y_pred_rf = rf.predict(X_test)\n",
    "\n",
    "print('Classificaltion report \\n',classification_report(y_test,y_pred_rf))"
   ]
  },
  {
   "cell_type": "code",
   "execution_count": 174,
   "metadata": {},
   "outputs": [
    {
     "data": {
      "text/plain": [
       "<matplotlib.axes._subplots.AxesSubplot at 0x208c0c275b0>"
      ]
     },
     "execution_count": 174,
     "metadata": {},
     "output_type": "execute_result"
    },
    {
     "data": {
      "image/png": "[encoded data removed]",
      "text/plain": [
       "<Figure size 432x288 with 1 Axes>"
      ]
     },
     "metadata": {
      "needs_background": "light"
     },
     "output_type": "display_data"
    }
   ],
   "source": [
    "# CONFUSION MATRIX\n",
    "\n",
    "cm = confusion_matrix(y_test, y_pred_rf)\n",
    "conf_matrix = pd.DataFrame(data = cm,columns = ['Predicted Defaukt: No','Predicted Default: Yes'], \n",
    "                           index = ['Actual Default :No','Actual Default :Yes'])\n",
    "sns.heatmap(conf_matrix, annot=True, annot_kws = {'size':25}, fmt = 'd',linewidths = 0.3, cbar = False)"
   ]
  },
  {
   "cell_type": "code",
   "execution_count": 176,
   "metadata": {},
   "outputs": [],
   "source": [
    "#tuning parameter for Random forest:\n",
    "param_grid = {\n",
    "    'max_depth': [60, 90, 110],\n",
    "    'min_samples_leaf': [3, 4, 5],\n",
    "    'min_samples_split': [8, 10, 12],\n",
    "    'n_estimators': [100, 200]\n",
    "}"
   ]
  },
  {
   "cell_type": "code",
   "execution_count": 177,
   "metadata": {},
   "outputs": [],
   "source": [
    "rf_tuned = RandomForestClassifier()\n",
    "\n",
    "grid_search = GridSearchCV(estimator = rf_tuned, param_grid = param_grid,    \n",
    "                          cv = 3, n_jobs = -1)"
   ]
  },
  {
   "cell_type": "code",
   "execution_count": 178,
   "metadata": {},
   "outputs": [
    {
     "data": {
      "text/plain": [
       "{'max_depth': 110,\n",
       " 'min_samples_leaf': 3,\n",
       " 'min_samples_split': 8,\n",
       " 'n_estimators': 200}"
      ]
     },
     "execution_count": 178,
     "metadata": {},
     "output_type": "execute_result"
    }
   ],
   "source": [
    "grid_search.fit(X_train_log, y_train_log)\n",
    "grid_search.best_params_"
   ]
  },
  {
   "cell_type": "code",
   "execution_count": 180,
   "metadata": {},
   "outputs": [
    {
     "name": "stdout",
     "output_type": "stream",
     "text": [
      "Classificaltion report \n",
      "               precision    recall  f1-score   support\n",
      "\n",
      "           0       0.95      0.97      0.96      4980\n",
      "           1       0.97      0.94      0.96      4836\n",
      "\n",
      "    accuracy                           0.96      9816\n",
      "   macro avg       0.96      0.96      0.96      9816\n",
      "weighted avg       0.96      0.96      0.96      9816\n",
      "\n"
     ]
    }
   ],
   "source": [
    "#Random forest with tuned parameter:\n",
    "rf1= RandomForestClassifier(**grid_search.best_params_)\n",
    "rf1.fit(X_train_sm,y_train_sm)\n",
    "\n",
    "\n",
    "y_pred_rf1= rf1.predict(X_test_log)\n",
    "\n",
    "print('Classificaltion report \\n',classification_report(y_test_log,y_pred_rf1))"
   ]
  },
  {
   "cell_type": "code",
   "execution_count": null,
   "metadata": {},
   "outputs": [],
   "source": [
    "scores_best = cross_val_score(rf1, X_train_sm, y_train_sm, scoring =\"accuracy\", cv = 5)\n",
    "accuracy_best = np.mean(scores_best)\n",
    "\n",
    "print(f'Accuracy score after tuning for Random Forest: {accuracy_best}')"
   ]
  },
  {
   "cell_type": "code",
   "execution_count": 143,
   "metadata": {},
   "outputs": [
    {
     "data": {
      "text/plain": [
       "<matplotlib.axes._subplots.AxesSubplot at 0x208c53937c0>"
      ]
     },
     "execution_count": 143,
     "metadata": {},
     "output_type": "execute_result"
    },
    {
     "data": {
      "image/png": "[encoded data removed]",
      "text/plain": [
       "<Figure size 432x288 with 1 Axes>"
      ]
     },
     "metadata": {
      "needs_background": "light"
     },
     "output_type": "display_data"
    }
   ],
   "source": [
    "# CONFUSION MATRIX\n",
    "\n",
    "cm = confusion_matrix(y_test_log, y_pred_rf1)\n",
    "conf_matrix = pd.DataFrame(data = cm,columns = ['Predicted Defaukt: No','Predicted Default: Yes'], \n",
    "                           index = ['Actual Default :No','Actual Default :Yes'])\n",
    "sns.heatmap(conf_matrix, annot=True, annot_kws = {'size':25}, fmt = 'd',linewidths = 0.3, cbar = False)"
   ]
  },
  {
   "cell_type": "code",
   "execution_count": null,
   "metadata": {},
   "outputs": [],
   "source": [
    "from sklearn.feature_selection import RFE\n"
   ]
  },
  {
   "cell_type": "code",
   "execution_count": null,
   "metadata": {},
   "outputs": [],
   "source": [
    "# linreg_rfe=RandomForestClassifier(random_state=1)\n",
    "# rfe_model=RFE(estimator=linreg_rfe,n_features_to_select=5)\n",
    "# rfe_model=rfe_model.fit(X_train_log,y_train_log)\n",
    "# feat_index=pd.Series(data=rfe_model.ranking_,index=X_train_log.columns)\n",
    "# signi_feat_rfe=feat_index[feat_index==1].index\n",
    "# print(signi_feat_rfe)"
   ]
  },
  {
   "cell_type": "code",
   "execution_count": null,
   "metadata": {},
   "outputs": [],
   "source": [
    "#Random forest:\n",
    "rf= RandomForestClassifier(random_state=1)\n",
    "rf.fit(X_train_log,y_train_log)\n",
    "\n",
    "\n",
    "y_pred_rf = rf.predict(X_test_log)\n",
    "\n",
    "print('Classificaltion report \\n',classification_report(y_test_log,y_pred_rf))"
   ]
  },
  {
   "cell_type": "code",
   "execution_count": null,
   "metadata": {},
   "outputs": [],
   "source": [
    "# CONFUSION MATRIX\n",
    "\n",
    "cm = confusion_matrix(y_test_log, y_pred_rf)\n",
    "conf_matrix = pd.DataFrame(data = cm,columns = ['Predicted Defaukt: No','Predicted Default: Yes'], \n",
    "                           index = ['Actual Default :No','Actual Default :Yes'])\n",
    "sns.heatmap(conf_matrix, annot=True, annot_kws = {'size':25}, fmt = 'd',linewidths = 0.3, cbar = False)"
   ]
  },
  {
   "cell_type": "code",
   "execution_count": 147,
   "metadata": {},
   "outputs": [
    {
     "data": {
      "text/html": [
       "<div>\n",
       "<style scoped>\n",
       "    .dataframe tbody tr th:only-of-type {\n",
       "        vertical-align: middle;\n",
       "    }\n",
       "\n",
       "    .dataframe tbody tr th {\n",
       "        vertical-align: top;\n",
       "    }\n",
       "\n",
       "    .dataframe thead th {\n",
       "        text-align: right;\n",
       "    }\n",
       "</style>\n",
       "<table border=\"1\" class=\"dataframe\">\n",
       "  <thead>\n",
       "    <tr style=\"text-align: right;\">\n",
       "      <th></th>\n",
       "      <th>Model</th>\n",
       "      <th>Accuracy</th>\n",
       "      <th>Precision</th>\n",
       "      <th>Recall</th>\n",
       "      <th>F1 Score</th>\n",
       "      <th>ROC</th>\n",
       "    </tr>\n",
       "  </thead>\n",
       "  <tbody>\n",
       "    <tr>\n",
       "      <th>0</th>\n",
       "      <td>Random Forest</td>\n",
       "      <td>0.860636</td>\n",
       "      <td>0.876957</td>\n",
       "      <td>0.83416</td>\n",
       "      <td>0.855023</td>\n",
       "      <td>0.860253</td>\n",
       "    </tr>\n",
       "  </tbody>\n",
       "</table>\n",
       "</div>"
      ],
      "text/plain": [
       "           Model  Accuracy  Precision   Recall  F1 Score       ROC\n",
       "0  Random Forest  0.860636   0.876957  0.83416  0.855023  0.860253"
      ]
     },
     "execution_count": 147,
     "metadata": {},
     "output_type": "execute_result"
    }
   ],
   "source": [
    "from sklearn.metrics import  accuracy_score, f1_score, precision_score, recall_score, roc_auc_score\n",
    "roc=roc_auc_score(y_test_log, y_pred_rf)\n",
    "acc = accuracy_score(y_test_log, y_pred_rf)\n",
    "prec = precision_score(y_test_log, y_pred_rf)\n",
    "rec = recall_score(y_test_log, y_pred_rf)\n",
    "f1 = f1_score(y_test_log, y_pred_rf)\n",
    "\n",
    "model_results =  pd.DataFrame([['Random Forest', acc,prec,rec, f1,roc]],\n",
    "               columns = ['Model', 'Accuracy', 'Precision', 'Recall', 'F1 Score','ROC'])\n",
    "model_results"
   ]
  },
  {
   "cell_type": "code",
   "execution_count": 148,
   "metadata": {},
   "outputs": [
    {
     "name": "stderr",
     "output_type": "stream",
     "text": [
      "D:\\Python\\lib\\site-packages\\xgboost\\sklearn.py:1146: UserWarning: The use of label encoder in XGBClassifier is deprecated and will be removed in a future release. To remove this warning, do the following: 1) Pass option use_label_encoder=False when constructing XGBClassifier object; and 2) Encode your labels (y) as integers starting with 0, i.e. 0, 1, 2, ..., [num_class - 1].\n",
      "  warnings.warn(label_encoder_deprecation_msg, UserWarning)\n"
     ]
    },
    {
     "name": "stdout",
     "output_type": "stream",
     "text": [
      "[13:38:02] WARNING: C:/Users/Administrator/workspace/xgboost-win64_release_1.4.0/src/learner.cc:1095: Starting in XGBoost 1.3.0, the default evaluation metric used with the objective 'binary:logistic' was changed from 'error' to 'logloss'. Explicitly set eval_metric if you'd like to restore the old behavior.\n",
      "Classificaltion report               precision    recall  f1-score   support\n",
      "\n",
      "           0       0.82      0.89      0.86      4980\n",
      "           1       0.88      0.80      0.84      4836\n",
      "\n",
      "    accuracy                           0.85      9816\n",
      "   macro avg       0.85      0.85      0.85      9816\n",
      "weighted avg       0.85      0.85      0.85      9816\n",
      "\n"
     ]
    },
    {
     "name": "stderr",
     "output_type": "stream",
     "text": [
      "D:\\Python\\lib\\site-packages\\xgboost\\data.py:112: UserWarning: Use subset (sliced data) of np.ndarray is not recommended because it will generate extra copies and increase memory consumption\n",
      "  warnings.warn(\n"
     ]
    }
   ],
   "source": [
    "##XGBOOST:\n",
    "\n",
    "xgb= XGBClassifier(random_state=10)\n",
    "xgb.fit(X_train_log,y_train_log)\n",
    "y_pred = xgb.predict(X_test_log)\n",
    "print('Classificaltion report',classification_report(y_test_log,y_pred))"
   ]
  },
  {
   "cell_type": "code",
   "execution_count": 150,
   "metadata": {},
   "outputs": [
    {
     "name": "stdout",
     "output_type": "stream",
     "text": [
      "{'n_estimators': array([200, 400, 600, 800]), 'gamma': array([0.1, 0.2, 0.3, 0.4, 0.5]), 'learning_rate': array([0.1, 0.2, 0.3, 0.4, 0.5]), 'max_depth': [3, 4, 5, 6, 7], 'subsample': array([0.5, 0.6, 0.7, 0.8]), 'colsample_bytree': array([0.5, 0.6, 0.7, 0.8]), 'scale_pos_weight': [1, 3.5]}\n"
     ]
    }
   ],
   "source": [
    "# Number of trees\n",
    "n_estimators = np.arange(200,1000,200)\n",
    "\n",
    "# Minimum loss reduction required to make a further partition on a leaf node of the tree\n",
    "# The larger gamma is, the more conservative the algorithm will be\n",
    "gamma = np.arange(0.1,0.6,0.1)\n",
    "\n",
    "# Default 0.3, range(0,1)\n",
    "learning_rate = np.arange(0.1,0.6,0.1)\n",
    "\n",
    "# Maximum number of levels in tree\n",
    "max_depth = list(range(3,8,1))\n",
    "\n",
    "# Subsample ratio of the training instances.Range(0,1)\n",
    "subsample = np.arange(0.5,0.9,0.1)\n",
    "\n",
    "# Subsample ratio of columns when constructing each tree. Range(0,1)\n",
    "colsample_bytree = np.arange(0.5,0.9,0.1)\n",
    "\n",
    "# Control the balance of positive and negative weights\n",
    "# Sum(negative instances) / sum(positive instances)\n",
    "scale_pos_weight = [1,3.5]\n",
    "\n",
    "\n",
    "# Create the random grid\n",
    "grid_xgb = {'n_estimators': n_estimators,\n",
    "                   'gamma': gamma,\n",
    "                   'learning_rate':learning_rate,\n",
    "                   'max_depth': max_depth,\n",
    "                   'subsample':subsample,\n",
    "                   'colsample_bytree':colsample_bytree,\n",
    "                   'scale_pos_weight':scale_pos_weight\n",
    "                  }\n",
    "print(grid_xgb)"
   ]
  },
  {
   "cell_type": "code",
   "execution_count": null,
   "metadata": {},
   "outputs": [],
   "source": [
    "xgboost = XGBClassifier()\n",
    "xgb_grid = GridSearchCV(estimator = xgboost, \n",
    "                                param_grid = grid_xgb,  \n",
    "                                cv = 3, \n",
    "                                verbose=1,  \n",
    "                                n_jobs = -1,\n",
    "                                scoring ='accuracy')\n",
    "\n",
    "\n",
    "xgb_grid.fit(X_train_log, y_train_log)   \n",
    "xgb_grid.best_params_, xgb_grid.best_score_\n",
    "\n",
    "print(xgb_grid.best_params_,xgb_grid.best_score_)"
   ]
  },
  {
   "cell_type": "code",
   "execution_count": 153,
   "metadata": {},
   "outputs": [
    {
     "name": "stderr",
     "output_type": "stream",
     "text": [
      "D:\\Python\\lib\\site-packages\\xgboost\\sklearn.py:1146: UserWarning: The use of label encoder in XGBClassifier is deprecated and will be removed in a future release. To remove this warning, do the following: 1) Pass option use_label_encoder=False when constructing XGBClassifier object; and 2) Encode your labels (y) as integers starting with 0, i.e. 0, 1, 2, ..., [num_class - 1].\n",
      "  warnings.warn(label_encoder_deprecation_msg, UserWarning)\n"
     ]
    },
    {
     "name": "stdout",
     "output_type": "stream",
     "text": [
      "[18:00:27] WARNING: C:/Users/Administrator/workspace/xgboost-win64_release_1.4.0/src/learner.cc:1095: Starting in XGBoost 1.3.0, the default evaluation metric used with the objective 'binary:logistic' was changed from 'error' to 'logloss'. Explicitly set eval_metric if you'd like to restore the old behavior.\n",
      "Classificaltion report               precision    recall  f1-score   support\n",
      "\n",
      "           0       0.82      0.89      0.86      4980\n",
      "           1       0.88      0.80      0.84      4836\n",
      "\n",
      "    accuracy                           0.85      9816\n",
      "   macro avg       0.85      0.85      0.85      9816\n",
      "weighted avg       0.85      0.85      0.85      9816\n",
      "\n"
     ]
    },
    {
     "name": "stderr",
     "output_type": "stream",
     "text": [
      "D:\\Python\\lib\\site-packages\\xgboost\\data.py:112: UserWarning: Use subset (sliced data) of np.ndarray is not recommended because it will generate extra copies and increase memory consumption\n",
      "  warnings.warn(\n"
     ]
    }
   ],
   "source": [
    "xgb1= XGBClassifier()\n",
    "xgb1.fit(X_train_log,y_train_log)\n",
    "y_pred = xgb1.predict(X_test_log)\n",
    "print('Classificaltion report',classification_report(y_test_log,y_pred))"
   ]
  },
  {
   "cell_type": "code",
   "execution_count": 154,
   "metadata": {},
   "outputs": [
    {
     "data": {
      "text/html": [
       "<div>\n",
       "<style scoped>\n",
       "    .dataframe tbody tr th:only-of-type {\n",
       "        vertical-align: middle;\n",
       "    }\n",
       "\n",
       "    .dataframe tbody tr th {\n",
       "        vertical-align: top;\n",
       "    }\n",
       "\n",
       "    .dataframe thead th {\n",
       "        text-align: right;\n",
       "    }\n",
       "</style>\n",
       "<table border=\"1\" class=\"dataframe\">\n",
       "  <thead>\n",
       "    <tr style=\"text-align: right;\">\n",
       "      <th></th>\n",
       "      <th>Model</th>\n",
       "      <th>Accuracy</th>\n",
       "      <th>Precision</th>\n",
       "      <th>Recall</th>\n",
       "      <th>F1 Score</th>\n",
       "      <th>ROC</th>\n",
       "    </tr>\n",
       "  </thead>\n",
       "  <tbody>\n",
       "    <tr>\n",
       "      <th>0</th>\n",
       "      <td>Random Forest</td>\n",
       "      <td>0.860636</td>\n",
       "      <td>0.876957</td>\n",
       "      <td>0.834160</td>\n",
       "      <td>0.855023</td>\n",
       "      <td>0.860253</td>\n",
       "    </tr>\n",
       "    <tr>\n",
       "      <th>1</th>\n",
       "      <td>XGBoost</td>\n",
       "      <td>0.846373</td>\n",
       "      <td>0.879562</td>\n",
       "      <td>0.797353</td>\n",
       "      <td>0.836443</td>\n",
       "      <td>0.845665</td>\n",
       "    </tr>\n",
       "  </tbody>\n",
       "</table>\n",
       "</div>"
      ],
      "text/plain": [
       "           Model  Accuracy  Precision    Recall  F1 Score       ROC\n",
       "0  Random Forest  0.860636   0.876957  0.834160  0.855023  0.860253\n",
       "1        XGBoost  0.846373   0.879562  0.797353  0.836443  0.845665"
      ]
     },
     "execution_count": 154,
     "metadata": {},
     "output_type": "execute_result"
    }
   ],
   "source": [
    "\n",
    "roc=roc_auc_score(y_test_log, y_pred)\n",
    "acc = accuracy_score(y_test_log, y_pred)\n",
    "prec = precision_score(y_test_log, y_pred)\n",
    "rec = recall_score(y_test_log, y_pred)\n",
    "f1 = f1_score(y_test_log, y_pred)\n",
    "model =  pd.DataFrame([['XGBoost', acc,prec,rec, f1,roc]],\n",
    "               columns = ['Model', 'Accuracy', 'Precision', 'Recall', 'F1 Score','ROC'])\n",
    "model_results = model_results.append(model, ignore_index = True)\n",
    "model_results"
   ]
  },
  {
   "cell_type": "code",
   "execution_count": 155,
   "metadata": {},
   "outputs": [
    {
     "name": "stdout",
     "output_type": "stream",
     "text": [
      "              precision    recall  f1-score   support\n",
      "\n",
      "           0       0.75      0.64      0.69      4980\n",
      "           1       0.68      0.78      0.73      4836\n",
      "\n",
      "    accuracy                           0.71      9816\n",
      "   macro avg       0.72      0.71      0.71      9816\n",
      "weighted avg       0.72      0.71      0.71      9816\n",
      "\n"
     ]
    }
   ],
   "source": [
    "# KNN\n",
    "from sklearn.neighbors import KNeighborsClassifier\n",
    "model = KNeighborsClassifier(n_neighbors=10,p=2,metric='minkowski')\n",
    "model.fit(X_train_log,y_train_log)\n",
    "\n",
    "y_pred_test = model.predict(X_test_log)\n",
    "print(classification_report(y_test_log,y_pred_test))"
   ]
  },
  {
   "cell_type": "code",
   "execution_count": 156,
   "metadata": {},
   "outputs": [
    {
     "data": {
      "text/plain": [
       "<matplotlib.axes._subplots.AxesSubplot at 0x208c7843f40>"
      ]
     },
     "execution_count": 156,
     "metadata": {},
     "output_type": "execute_result"
    },
    {
     "data": {
      "image/png": "[encoded data removed]",
      "text/plain": [
       "<Figure size 432x288 with 1 Axes>"
      ]
     },
     "metadata": {
      "needs_background": "light"
     },
     "output_type": "display_data"
    }
   ],
   "source": [
    "# type your code here\n",
    "\n",
    "cm = confusion_matrix(y_test_log, y_pred_test)\n",
    "conf_matrix = pd.DataFrame(data = cm,columns = ['Predicted y: No','Predicted y: Yes'], \n",
    "                           index = ['Actual y :No','Actual y :Yes'])\n",
    "\n",
    "sns.heatmap(conf_matrix, annot=True, annot_kws = {'size':25}, fmt = 'd',linewidths = 0.3, cbar = False)"
   ]
  },
  {
   "cell_type": "code",
   "execution_count": 157,
   "metadata": {},
   "outputs": [
    {
     "data": {
      "text/html": [
       "<div>\n",
       "<style scoped>\n",
       "    .dataframe tbody tr th:only-of-type {\n",
       "        vertical-align: middle;\n",
       "    }\n",
       "\n",
       "    .dataframe tbody tr th {\n",
       "        vertical-align: top;\n",
       "    }\n",
       "\n",
       "    .dataframe thead th {\n",
       "        text-align: right;\n",
       "    }\n",
       "</style>\n",
       "<table border=\"1\" class=\"dataframe\">\n",
       "  <thead>\n",
       "    <tr style=\"text-align: right;\">\n",
       "      <th></th>\n",
       "      <th>Model</th>\n",
       "      <th>Accuracy</th>\n",
       "      <th>Precision</th>\n",
       "      <th>Recall</th>\n",
       "      <th>F1 Score</th>\n",
       "      <th>ROC</th>\n",
       "    </tr>\n",
       "  </thead>\n",
       "  <tbody>\n",
       "    <tr>\n",
       "      <th>0</th>\n",
       "      <td>Random Forest</td>\n",
       "      <td>0.860636</td>\n",
       "      <td>0.876957</td>\n",
       "      <td>0.834160</td>\n",
       "      <td>0.855023</td>\n",
       "      <td>0.860253</td>\n",
       "    </tr>\n",
       "    <tr>\n",
       "      <th>1</th>\n",
       "      <td>XGBoost</td>\n",
       "      <td>0.846373</td>\n",
       "      <td>0.879562</td>\n",
       "      <td>0.797353</td>\n",
       "      <td>0.836443</td>\n",
       "      <td>0.845665</td>\n",
       "    </tr>\n",
       "    <tr>\n",
       "      <th>2</th>\n",
       "      <td>KNN</td>\n",
       "      <td>0.710575</td>\n",
       "      <td>0.679439</td>\n",
       "      <td>0.781017</td>\n",
       "      <td>0.726696</td>\n",
       "      <td>0.711593</td>\n",
       "    </tr>\n",
       "  </tbody>\n",
       "</table>\n",
       "</div>"
      ],
      "text/plain": [
       "           Model  Accuracy  Precision    Recall  F1 Score       ROC\n",
       "0  Random Forest  0.860636   0.876957  0.834160  0.855023  0.860253\n",
       "1        XGBoost  0.846373   0.879562  0.797353  0.836443  0.845665\n",
       "2            KNN  0.710575   0.679439  0.781017  0.726696  0.711593"
      ]
     },
     "execution_count": 157,
     "metadata": {},
     "output_type": "execute_result"
    }
   ],
   "source": [
    "\n",
    "roc=roc_auc_score(y_test_log, y_pred_test)\n",
    "acc = accuracy_score(y_test_log, y_pred_test)\n",
    "prec = precision_score(y_test_log, y_pred_test)\n",
    "rec = recall_score(y_test_log, y_pred_test)\n",
    "f1 = f1_score(y_test_log, y_pred_test)\n",
    "model =  pd.DataFrame([['KNN', acc,prec,rec, f1,roc]],\n",
    "               columns = ['Model', 'Accuracy', 'Precision', 'Recall', 'F1 Score','ROC'])\n",
    "model_results = model_results.append(model, ignore_index = True)\n",
    "model_results"
   ]
  },
  {
   "cell_type": "code",
   "execution_count": 158,
   "metadata": {},
   "outputs": [],
   "source": [
    "##STACKING:\n",
    "from mlxtend.classifier import StackingClassifier\n",
    "from sklearn.linear_model import LogisticRegression\n",
    "from sklearn.model_selection import cross_val_score\n",
    "from warnings import filterwarnings\n",
    "filterwarnings('ignore')"
   ]
  },
  {
   "cell_type": "code",
   "execution_count": 159,
   "metadata": {},
   "outputs": [],
   "source": [
    "model_1=RandomForestClassifier(random_state=1)\n",
    "model_2=XGBClassifier(random_state=10)\n",
    "model_3=KNeighborsClassifier(n_neighbors=10,p=2,metric='minkowski')\n",
    "last=LogisticRegression()"
   ]
  },
  {
   "cell_type": "code",
   "execution_count": 160,
   "metadata": {},
   "outputs": [],
   "source": [
    "stack=StackingClassifier(classifiers=[model_1,model_2,model_3],meta_classifier=last)"
   ]
  },
  {
   "cell_type": "code",
   "execution_count": 161,
   "metadata": {},
   "outputs": [
    {
     "name": "stdout",
     "output_type": "stream",
     "text": [
      "Accuracy: 0.8563883479227377 std : 0.00310747448563381 classifier: RF\n",
      "[18:01:31] WARNING: C:/Users/Administrator/workspace/xgboost-win64_release_1.4.0/src/learner.cc:1095: Starting in XGBoost 1.3.0, the default evaluation metric used with the objective 'binary:logistic' was changed from 'error' to 'logloss'. Explicitly set eval_metric if you'd like to restore the old behavior.\n",
      "[18:01:35] WARNING: C:/Users/Administrator/workspace/xgboost-win64_release_1.4.0/src/learner.cc:1095: Starting in XGBoost 1.3.0, the default evaluation metric used with the objective 'binary:logistic' was changed from 'error' to 'logloss'. Explicitly set eval_metric if you'd like to restore the old behavior.\n",
      "[18:01:38] WARNING: C:/Users/Administrator/workspace/xgboost-win64_release_1.4.0/src/learner.cc:1095: Starting in XGBoost 1.3.0, the default evaluation metric used with the objective 'binary:logistic' was changed from 'error' to 'logloss'. Explicitly set eval_metric if you'd like to restore the old behavior.\n",
      "[18:01:43] WARNING: C:/Users/Administrator/workspace/xgboost-win64_release_1.4.0/src/learner.cc:1095: Starting in XGBoost 1.3.0, the default evaluation metric used with the objective 'binary:logistic' was changed from 'error' to 'logloss'. Explicitly set eval_metric if you'd like to restore the old behavior.\n",
      "[18:01:47] WARNING: C:/Users/Administrator/workspace/xgboost-win64_release_1.4.0/src/learner.cc:1095: Starting in XGBoost 1.3.0, the default evaluation metric used with the objective 'binary:logistic' was changed from 'error' to 'logloss'. Explicitly set eval_metric if you'd like to restore the old behavior.\n",
      "Accuracy: 0.8496205134364553 std : 0.005666676590803506 classifier: XGBOOST\n",
      "Accuracy: 0.6907698877745462 std : 0.006968880602370851 classifier: KNN\n",
      "[18:02:06] WARNING: C:/Users/Administrator/workspace/xgboost-win64_release_1.4.0/src/learner.cc:1095: Starting in XGBoost 1.3.0, the default evaluation metric used with the objective 'binary:logistic' was changed from 'error' to 'logloss'. Explicitly set eval_metric if you'd like to restore the old behavior.\n",
      "[18:02:26] WARNING: C:/Users/Administrator/workspace/xgboost-win64_release_1.4.0/src/learner.cc:1095: Starting in XGBoost 1.3.0, the default evaluation metric used with the objective 'binary:logistic' was changed from 'error' to 'logloss'. Explicitly set eval_metric if you'd like to restore the old behavior.\n",
      "[18:02:46] WARNING: C:/Users/Administrator/workspace/xgboost-win64_release_1.4.0/src/learner.cc:1095: Starting in XGBoost 1.3.0, the default evaluation metric used with the objective 'binary:logistic' was changed from 'error' to 'logloss'. Explicitly set eval_metric if you'd like to restore the old behavior.\n",
      "[18:03:03] WARNING: C:/Users/Administrator/workspace/xgboost-win64_release_1.4.0/src/learner.cc:1095: Starting in XGBoost 1.3.0, the default evaluation metric used with the objective 'binary:logistic' was changed from 'error' to 'logloss'. Explicitly set eval_metric if you'd like to restore the old behavior.\n",
      "[18:03:20] WARNING: C:/Users/Administrator/workspace/xgboost-win64_release_1.4.0/src/learner.cc:1095: Starting in XGBoost 1.3.0, the default evaluation metric used with the objective 'binary:logistic' was changed from 'error' to 'logloss'. Explicitly set eval_metric if you'd like to restore the old behavior.\n",
      "Accuracy: 0.8563883479227377 std : 0.00310747448563381 classifier: STACKING CLASSIFIER\n"
     ]
    }
   ],
   "source": [
    "for classifier, label in zip([model_1,model_2,model_3,stack],['RF','XGBOOST','KNN','STACKING CLASSIFIER']):\n",
    "    scores=cross_val_score(classifier,X_train_log,y_train_log,cv=5,scoring='accuracy')\n",
    "    print(f\"Accuracy: {scores.mean()} std : {scores.std()} classifier: {label}\")"
   ]
  },
  {
   "cell_type": "code",
   "execution_count": null,
   "metadata": {},
   "outputs": [],
   "source": []
  },
  {
   "cell_type": "code",
   "execution_count": null,
   "metadata": {},
   "outputs": [],
   "source": []
  },
  {
   "cell_type": "code",
   "execution_count": null,
   "metadata": {},
   "outputs": [],
   "source": []
  }
 ],
 "metadata": {
  "kernelspec": {
   "display_name": "Python 3",
   "language": "python",
   "name": "python3"
  },
  "language_info": {
   "codemirror_mode": {
    "name": "ipython",
    "version": 3
   },
   "file_extension": ".py",
   "mimetype": "text/x-python",
   "name": "python",
   "nbconvert_exporter": "python",
   "pygments_lexer": "ipython3",
   "version": "3.8.3"
  }
 },
 "nbformat": 4,
 "nbformat_minor": 4
}
